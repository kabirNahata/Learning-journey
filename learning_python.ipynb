{
 "cells": [
  {
   "cell_type": "markdown",
   "id": "1cf95c8f",
   "metadata": {},
   "source": [
    "#### 1. map()\n",
    "#### 2. reduce()\n",
    "#### 3. filter()\n",
    "#### 4. zip()\n",
    "#### 5. import collections\n"
   ]
  },
  {
   "cell_type": "markdown",
   "id": "aeaa31fd",
   "metadata": {},
   "source": [
    "### 1. map()"
   ]
  },
  {
   "cell_type": "markdown",
   "id": "9c523d55",
   "metadata": {},
   "source": [
    "#### SYNTAX\n",
    "#### map(function, iterable)"
   ]
  },
  {
   "cell_type": "markdown",
   "id": "e7bb220f",
   "metadata": {},
   "source": [
    "#### TYPE ONE\n"
   ]
  },
  {
   "cell_type": "code",
   "execution_count": 7,
   "id": "73940f8d",
   "metadata": {},
   "outputs": [
    {
     "name": "stdout",
     "output_type": "stream",
     "text": [
      "[1, 4, 9, 16, 25]\n"
     ]
    }
   ],
   "source": [
    "def square(n):\n",
    "    return n * n\n",
    "\n",
    "numbers = [1, 2, 3, 4, 5]\n",
    "squared_numbers = map(square, numbers)\n",
    "print(list(squared_numbers)) \n",
    "# output - [1, 4, 9, 16, 25] "
   ]
  },
  {
   "cell_type": "markdown",
   "id": "48587113",
   "metadata": {},
   "source": [
    "#### TYPE TWO - LAMBDA"
   ]
  },
  {
   "cell_type": "code",
   "execution_count": 8,
   "id": "5181b706",
   "metadata": {},
   "outputs": [
    {
     "name": "stdout",
     "output_type": "stream",
     "text": [
      "[1, 4, 9, 16, 25]\n"
     ]
    }
   ],
   "source": [
    "numbers = [1, 2, 3, 4, 5]\n",
    "squared_numbers = map(lambda x: x**2, numbers)\n",
    "print(list(squared_numbers)) \n",
    "# output - [1, 4, 9, 16, 25]"
   ]
  },
  {
   "cell_type": "markdown",
   "id": "a8295710",
   "metadata": {},
   "source": [
    "#### TYPE THREE - TWO LISTS"
   ]
  },
  {
   "cell_type": "code",
   "execution_count": 9,
   "id": "68c08509",
   "metadata": {},
   "outputs": [
    {
     "name": "stdout",
     "output_type": "stream",
     "text": [
      "[5, 7, 9]\n"
     ]
    }
   ],
   "source": [
    "list1 = [1, 2, 3]\n",
    "list2 = [4, 5, 6]\n",
    "result = map(lambda x, y: x + y, list1, list2)\n",
    "print(list(result))\n",
    "# output - [5, 7, 9]"
   ]
  },
  {
   "cell_type": "markdown",
   "id": "38ee84ff",
   "metadata": {},
   "source": [
    "#### We can add string and multiply strings, The function can be kept inside the map() or separate."
   ]
  },
  {
   "cell_type": "markdown",
   "id": "e1b737ae",
   "metadata": {},
   "source": [
    "### 2. reduce()"
   ]
  },
  {
   "cell_type": "markdown",
   "id": "222de965",
   "metadata": {},
   "source": [
    "#### SYNTAX\n",
    "#### reduce(function, iterable)"
   ]
  },
  {
   "cell_type": "markdown",
   "id": "0308bba6",
   "metadata": {},
   "source": [
    "#### TYPE ONE"
   ]
  },
  {
   "cell_type": "code",
   "execution_count": 11,
   "id": "3a90b22a",
   "metadata": {},
   "outputs": [
    {
     "name": "stdout",
     "output_type": "stream",
     "text": [
      "15\n"
     ]
    }
   ],
   "source": [
    "from functools import reduce\n",
    "\n",
    "def add(x, y):\n",
    "    return x + y\n",
    "\n",
    "numbers = [1, 2, 3, 4, 5]\n",
    "sum_of_numbers = reduce(add, numbers)\n",
    "print(sum_of_numbers) \n",
    "# Output - 15"
   ]
  },
  {
   "cell_type": "markdown",
   "id": "c4084309",
   "metadata": {},
   "source": [
    "#### TYPE TWO - LAMBDA"
   ]
  },
  {
   "cell_type": "code",
   "execution_count": 12,
   "id": "ebd1c182",
   "metadata": {},
   "outputs": [
    {
     "name": "stdout",
     "output_type": "stream",
     "text": [
      "120\n"
     ]
    }
   ],
   "source": [
    "product_of_numbers = reduce(lambda x, y: x * y, numbers)\n",
    "print(product_of_numbers) \n",
    "# Output - 120"
   ]
  },
  {
   "cell_type": "markdown",
   "id": "4148c312",
   "metadata": {},
   "source": [
    "#### Same as type one but using lambda for one liner"
   ]
  },
  {
   "cell_type": "code",
   "execution_count": 14,
   "id": "ec7df0d8",
   "metadata": {},
   "outputs": [
    {
     "name": "stdout",
     "output_type": "stream",
     "text": [
      "10\n"
     ]
    }
   ],
   "source": [
    "numbers = []\n",
    "sum_of_numbers = reduce(lambda x, y: x + y, numbers, 10)\n",
    "print(sum_of_numbers) \n",
    "# Output - 10"
   ]
  },
  {
   "cell_type": "markdown",
   "id": "2886c602",
   "metadata": {},
   "source": [
    "### 3. filter()"
   ]
  },
  {
   "cell_type": "markdown",
   "id": "21a62cf9",
   "metadata": {},
   "source": [
    "#### SYNTAX\n",
    "#### filter(function, iterable)"
   ]
  },
  {
   "cell_type": "markdown",
   "id": "b8f626dc",
   "metadata": {},
   "source": [
    "#### TYPE ONE"
   ]
  },
  {
   "cell_type": "code",
   "execution_count": 16,
   "id": "684fa0aa",
   "metadata": {},
   "outputs": [
    {
     "name": "stdout",
     "output_type": "stream",
     "text": [
      "[2, 4, 6, 8, 10]\n"
     ]
    }
   ],
   "source": [
    "def is_even(x):\n",
    "    return x % 2 == 0\n",
    "\n",
    "numbers = [1, 2, 3, 4, 5, 6, 7, 8, 9, 10]\n",
    "even_numbers = list(filter(is_even, numbers))\n",
    "print(even_numbers)  \n",
    "# Output - [2, 4, 6, 8, 10]"
   ]
  },
  {
   "cell_type": "markdown",
   "id": "293c3620",
   "metadata": {},
   "source": [
    "### Those number which are needed in the function are only kept and the rest of the elements are removed when using filter()"
   ]
  },
  {
   "cell_type": "markdown",
   "id": "72ef50a2",
   "metadata": {},
   "source": [
    "#### TYPE TWO - LAMBDA"
   ]
  },
  {
   "cell_type": "code",
   "execution_count": 17,
   "id": "1ec5ed19",
   "metadata": {},
   "outputs": [
    {
     "name": "stdout",
     "output_type": "stream",
     "text": [
      "[1, 3, 5, 7, 9]\n"
     ]
    }
   ],
   "source": [
    "numbers = [1, 2, 3, 4, 5, 6, 7, 8, 9, 10]\n",
    "odd_numbers = list(filter(lambda x: x % 2 != 0, numbers))\n",
    "print(odd_numbers) \n",
    "# OutpuT - [1, 3, 5, 7, 9]"
   ]
  },
  {
   "cell_type": "markdown",
   "id": "7e6786e5",
   "metadata": {},
   "source": [
    "### 4. zip()\n"
   ]
  },
  {
   "cell_type": "markdown",
   "id": "31e2956a",
   "metadata": {},
   "source": [
    "#### SYNTAX\n",
    "#### zip(*iterables, strict=False)  # strict parameter is available in Python 3.10+"
   ]
  },
  {
   "cell_type": "markdown",
   "id": "dc3184fd",
   "metadata": {},
   "source": [
    "Core Functionality"
   ]
  },
  {
   "cell_type": "code",
   "execution_count": 1,
   "id": "27950187",
   "metadata": {},
   "outputs": [
    {
     "name": "stdout",
     "output_type": "stream",
     "text": [
      "[(1, 'a'), (2, 'b'), (3, 'c')]\n",
      "1: a\n",
      "2: b\n",
      "3: c\n",
      "[]\n"
     ]
    }
   ],
   "source": [
    "# Basic zip usage\n",
    "numbers = [1, 2, 3]\n",
    "letters = ['a', 'b', 'c']\n",
    "zipped = zip(numbers, letters)\n",
    "\n",
    "# Converting to list to view the result\n",
    "print(list(zipped))  # [(1, 'a'), (2, 'b'), (3, 'c')]\n",
    "\n",
    "# zip() returns an iterator, so it can only be consumed once\n",
    "zipped = zip(numbers, letters)\n",
    "for num, letter in zipped:\n",
    "    print(f\"{num}: {letter}\")\n",
    "# Output:\n",
    "# 1: a\n",
    "# 2: b\n",
    "# 3: c\n",
    "\n",
    "# Trying to iterate again won't work\n",
    "print(list(zipped))  # [] (empty list, iterator is exhausted)"
   ]
  },
  {
   "cell_type": "markdown",
   "id": "cf12c6b6",
   "metadata": {},
   "source": [
    "Handling Iterables of Different Lengths\n",
    "By default, zip() stops when the shortest iterable is exhausted:"
   ]
  },
  {
   "cell_type": "code",
   "execution_count": 2,
   "id": "2eee2cf3",
   "metadata": {},
   "outputs": [
    {
     "name": "stdout",
     "output_type": "stream",
     "text": [
      "[(1, 'a'), (2, 'b'), (3, 'c')]\n"
     ]
    }
   ],
   "source": [
    "numbers = [1, 2, 3, 4, 5]\n",
    "letters = ['a', 'b', 'c']\n",
    "zipped = zip(numbers, letters)\n",
    "print(list(zipped))  # [(1, 'a'), (2, 'b'), (3, 'c')]\n",
    "# The elements 4 and 5 from numbers are ignored"
   ]
  },
  {
   "cell_type": "markdown",
   "id": "74c40c7c",
   "metadata": {},
   "source": [
    "In Python 3.10+, you can use the strict=True parameter to raise an exception if iterables have different lengths:"
   ]
  },
  {
   "cell_type": "code",
   "execution_count": 3,
   "id": "5ecf0c88",
   "metadata": {},
   "outputs": [
    {
     "name": "stdout",
     "output_type": "stream",
     "text": [
      "Error: zip() argument 2 is shorter than argument 1\n"
     ]
    }
   ],
   "source": [
    "# Python 3.10+ only\n",
    "numbers = [1, 2, 3, 4]\n",
    "letters = ['a', 'b', 'c']\n",
    "try:\n",
    "    # This will raise a ValueError\n",
    "    zipped = zip(numbers, letters, strict=True)\n",
    "    print(list(zipped))\n",
    "except ValueError as e:\n",
    "    print(f\"Error: {e}\")  # Error: zip() argument lengths differ"
   ]
  },
  {
   "cell_type": "markdown",
   "id": "6b3bbed0",
   "metadata": {},
   "source": [
    "Unzipping (Reverse of zip)\n",
    "You can use the * operator to \"unzip\" a zipped sequence:"
   ]
  },
  {
   "cell_type": "code",
   "execution_count": 4,
   "id": "a7eb8ba2",
   "metadata": {},
   "outputs": [
    {
     "name": "stdout",
     "output_type": "stream",
     "text": [
      "(1, 2, 3)\n",
      "('a', 'b', 'c')\n"
     ]
    }
   ],
   "source": [
    "pairs = [(1, 'a'), (2, 'b'), (3, 'c')]\n",
    "numbers, letters = zip(*pairs)\n",
    "\n",
    "print(numbers)  # (1, 2, 3)\n",
    "print(letters)  # ('a', 'b', 'c')"
   ]
  },
  {
   "cell_type": "markdown",
   "id": "1cd779b9",
   "metadata": {},
   "source": [
    "Working with More Than Two Iterables"
   ]
  },
  {
   "cell_type": "code",
   "execution_count": 5,
   "id": "4eb0d69d",
   "metadata": {},
   "outputs": [
    {
     "name": "stdout",
     "output_type": "stream",
     "text": [
      "[(1, 'a', '!'), (2, 'b', '@'), (3, 'c', '#')]\n"
     ]
    }
   ],
   "source": [
    "numbers = [1, 2, 3]\n",
    "letters = ['a', 'b', 'c']\n",
    "symbols = ['!', '@', '#']\n",
    "\n",
    "zipped = zip(numbers, letters, symbols)\n",
    "print(list(zipped))  # [(1, 'a', '!'), (2, 'b', '@'), (3, 'c', '#')]"
   ]
  },
  {
   "cell_type": "markdown",
   "id": "5b03abd4",
   "metadata": {},
   "source": [
    "### 5. import collections"
   ]
  },
  {
   "cell_type": "markdown",
   "id": "4177f1b8",
   "metadata": {},
   "source": [
    "1. Counter -\n",
    "Counter is a dictionary subclass for counting hashable objects."
   ]
  },
  {
   "cell_type": "code",
   "execution_count": 6,
   "id": "3d18fd9a",
   "metadata": {},
   "outputs": [
    {
     "name": "stdout",
     "output_type": "stream",
     "text": [
      "Counter({'a': 5, 'b': 2, 'r': 2, 'c': 1, 'd': 1})\n",
      "[('a', 5), ('b', 2)]\n",
      "0\n",
      "Counter({'b': 3, 'c': 3, 'a': 1, 'd': 1})\n",
      "Counter({'a': 1, 'b': 1})\n"
     ]
    }
   ],
   "source": [
    "from collections import Counter\n",
    "\n",
    "# Creating a Counter\n",
    "c = Counter('abracadabra')  # From an iterable\n",
    "print(c)  # Counter({'a': 5, 'b': 2, 'r': 2, 'c': 1, 'd': 1})\n",
    "\n",
    "# Other creation methods\n",
    "c = Counter({'a': 4, 'b': 2})  # From a dictionary\n",
    "c = Counter(a=4, b=2)  # From keyword arguments\n",
    "\n",
    "# Operations\n",
    "c = Counter('abracadabra')\n",
    "print(c.most_common(2))  # [('a', 5), ('b', 2)]\n",
    "c['z'] = 0  # Count of non-existent item is 0\n",
    "print(c['z'])  # 0\n",
    "\n",
    "# Arithmetic\n",
    "c1 = Counter('abbc')\n",
    "c2 = Counter('bccd')\n",
    "print(c1 + c2)  # Counter({'b': 3, 'c': 3, 'a': 1, 'd': 1})\n",
    "print(c1 - c2)  # Counter({'a': 1, 'b': 1})"
   ]
  },
  {
   "cell_type": "markdown",
   "id": "610cf408",
   "metadata": {},
   "source": [
    "2. defaultdict -\n",
    "defaultdict is a dictionary subclass that calls a factory function to supply missing values."
   ]
  },
  {
   "cell_type": "code",
   "execution_count": 7,
   "id": "c60c6230",
   "metadata": {},
   "outputs": [
    {
     "name": "stdout",
     "output_type": "stream",
     "text": [
      "{'apple': 3, 'banana': 2, 'orange': 1}\n",
      "{'a': [1, 3], 'b': [2, 4], 'c': [5]}\n",
      "value\n",
      "Not available\n"
     ]
    }
   ],
   "source": [
    "from collections import defaultdict\n",
    "\n",
    "# Creating a defaultdict with int as default factory\n",
    "d = defaultdict(int)\n",
    "words = ['apple', 'banana', 'apple', 'orange', 'banana', 'apple']\n",
    "for word in words:\n",
    "    d[word] += 1  # No KeyError when accessing new keys\n",
    "\n",
    "print(dict(d))  # {'apple': 3, 'banana': 2, 'orange': 1}\n",
    "\n",
    "# Using list as factory\n",
    "d = defaultdict(list)\n",
    "pairs = [('a', 1), ('b', 2), ('a', 3), ('b', 4), ('c', 5)]\n",
    "for key, value in pairs:\n",
    "    d[key].append(value)  # No need to check if key exists\n",
    "\n",
    "print(dict(d))  # {'a': [1, 3], 'b': [2, 4], 'c': [5]}\n",
    "\n",
    "# With custom factory function\n",
    "def default_value():\n",
    "    return \"Not available\"\n",
    "\n",
    "d = defaultdict(default_value)\n",
    "d['key'] = 'value'\n",
    "print(d['key'])  # 'value'\n",
    "print(d['nonexistent'])  # 'Not available'"
   ]
  },
  {
   "cell_type": "markdown",
   "id": "5ab2a14d",
   "metadata": {},
   "source": [
    "3. OrderedDict -\n",
    "OrderedDict is a dictionary subclass that remembers the order items were inserted."
   ]
  },
  {
   "cell_type": "code",
   "execution_count": 8,
   "id": "0df3cc8d",
   "metadata": {},
   "outputs": [
    {
     "name": "stdout",
     "output_type": "stream",
     "text": [
      "OrderedDict({'a': 1, 'b': 2, 'c': 3, 'd': 4})\n",
      "OrderedDict({'a': 1, 'c': 3, 'd': 4, 'b': 2})\n",
      "OrderedDict({'b': 2, 'a': 1, 'c': 3, 'd': 4})\n",
      "OrderedDict({'b': 2, 'a': 1, 'c': 3})\n",
      "OrderedDict({'a': 1, 'c': 3})\n"
     ]
    }
   ],
   "source": [
    "from collections import OrderedDict\n",
    "\n",
    "# Creating an OrderedDict\n",
    "d = OrderedDict([('a', 1), ('b', 2), ('c', 3)])\n",
    "\n",
    "# Adding elements\n",
    "d['d'] = 4\n",
    "print(d)  # OrderedDict([('a', 1), ('b', 2), ('c', 3), ('d', 4)])\n",
    "\n",
    "# Moving an element to the end\n",
    "d.move_to_end('b')\n",
    "print(d)  # OrderedDict([('a', 1), ('c', 3), ('d', 4), ('b', 2)])\n",
    "\n",
    "# Moving an element to the beginning\n",
    "d.move_to_end('b', last=False)\n",
    "print(d)  # OrderedDict([('b', 2), ('a', 1), ('c', 3), ('d', 4)])\n",
    "\n",
    "# Popping the last element\n",
    "d.popitem()  # Returns ('d', 4)\n",
    "print(d)  # OrderedDict([('b', 2), ('a', 1), ('c', 3)])\n",
    "\n",
    "# Popping the first element\n",
    "d.popitem(last=False)  # Returns ('b', 2)\n",
    "print(d)  # OrderedDict([('a', 1), ('c', 3)])"
   ]
  },
  {
   "cell_type": "markdown",
   "id": "6f9e76f0",
   "metadata": {},
   "source": [
    "4. namedtuple -\n",
    "namedtuple creates tuple subclasses with named fields."
   ]
  },
  {
   "cell_type": "code",
   "execution_count": 9,
   "id": "1619385b",
   "metadata": {},
   "outputs": [
    {
     "name": "stdout",
     "output_type": "stream",
     "text": [
      "11 22\n",
      "11 22\n",
      "11 22\n",
      "Person(name='Bob', age=30, job='developer')\n",
      "Person(name='Alice', age=25, job='unknown')\n",
      "{'x': 11, 'y': 22}\n",
      "Point(x=33, y=22)\n"
     ]
    }
   ],
   "source": [
    "from collections import namedtuple\n",
    "\n",
    "# Creating a namedtuple type\n",
    "Point = namedtuple('Point', ['x', 'y'])\n",
    "p = Point(11, y=22)\n",
    "\n",
    "# Accessing fields\n",
    "print(p.x, p.y)  # 11 22\n",
    "print(p[0], p[1])  # 11 22\n",
    "\n",
    "# Unpacking\n",
    "x, y = p\n",
    "print(x, y)  # 11 22\n",
    "\n",
    "# Alternative field specification\n",
    "Person = namedtuple('Person', 'name age job')\n",
    "bob = Person('Bob', 30, 'developer')\n",
    "print(bob)  # Person(name='Bob', age=30, job='developer')\n",
    "\n",
    "# Field default values (Python 3.7+)\n",
    "Person = namedtuple('Person', ['name', 'age', 'job'], defaults=[None, 'unknown'])\n",
    "alice = Person('Alice', 25)\n",
    "print(alice)  # Person(name='Alice', age=25, job='unknown')\n",
    "\n",
    "# Converting to dictionary\n",
    "print(p._asdict())  # {'x': 11, 'y': 22}\n",
    "\n",
    "# Creating new instance with updated values\n",
    "p2 = p._replace(x=33)\n",
    "print(p2)  # Point(x=33, y=22)"
   ]
  },
  {
   "cell_type": "markdown",
   "id": "09946bad",
   "metadata": {},
   "source": [
    "5. deque -\n",
    "deque (double-ended queue) is a list-like container optimized for appending and popping from both ends."
   ]
  },
  {
   "cell_type": "code",
   "execution_count": 10,
   "id": "97402831",
   "metadata": {},
   "outputs": [
    {
     "name": "stdout",
     "output_type": "stream",
     "text": [
      "deque(['a', 'b', 'c'])\n",
      "deque(['z', 'a', 'b', 'c', 'd'])\n",
      "d deque(['z', 'a', 'b', 'c'])\n",
      "z deque(['a', 'b', 'c'])\n",
      "deque([4, 5, 1, 2, 3])\n",
      "deque([5, 1, 2, 3, 4])\n",
      "deque([0], maxlen=3)\n",
      "deque([0, 1], maxlen=3)\n",
      "deque([0, 1, 2], maxlen=3)\n",
      "deque([1, 2, 3], maxlen=3)\n",
      "deque([2, 3, 4], maxlen=3)\n"
     ]
    }
   ],
   "source": [
    "from collections import deque\n",
    "\n",
    "# Creating a deque\n",
    "d = deque(['a', 'b', 'c'])\n",
    "print(d)  # deque(['a', 'b', 'c'])\n",
    "\n",
    "# Operations on both ends\n",
    "d.append('d')  # Add to right end\n",
    "d.appendleft('z')  # Add to left end\n",
    "print(d)  # deque(['z', 'a', 'b', 'c', 'd'])\n",
    "\n",
    "item = d.pop()  # Remove from right end\n",
    "print(item, d)  # d deque(['z', 'a', 'b', 'c'])\n",
    "\n",
    "item = d.popleft()  # Remove from left end\n",
    "print(item, d)  # z deque(['a', 'b', 'c'])\n",
    "\n",
    "# Rotation\n",
    "d = deque([1, 2, 3, 4, 5])\n",
    "d.rotate(2)  # Rotate two steps to the right\n",
    "print(d)  # deque([4, 5, 1, 2, 3])\n",
    "\n",
    "d.rotate(-1)  # Rotate one step to the left\n",
    "print(d)  # deque([5, 1, 2, 3, 4])\n",
    "\n",
    "# Limited size deque\n",
    "d = deque(maxlen=3)\n",
    "for i in range(5):\n",
    "    d.append(i)\n",
    "    print(d)  # Will only keep last 3 items\n",
    "# deque([0], maxlen=3)\n",
    "# deque([0, 1], maxlen=3)\n",
    "# deque([0, 1, 2], maxlen=3)\n",
    "# deque([1, 2, 3], maxlen=3)\n",
    "# deque([2, 3, 4], maxlen=3)"
   ]
  },
  {
   "cell_type": "markdown",
   "id": "011d1476",
   "metadata": {},
   "source": [
    "6. ChainMap -\n",
    "ChainMap is a dictionary-like class for creating a single view of multiple mappings."
   ]
  },
  {
   "cell_type": "code",
   "execution_count": null,
   "id": "a6817f2d",
   "metadata": {},
   "outputs": [
    {
     "name": "stdout",
     "output_type": "stream",
     "text": [
      "Dark\n",
      "English\n",
      "Light\n",
      "[{'theme': 'Light'}, {'theme': 'Dark'}, {'theme': 'Default', 'language': 'English', 'showIndex': True}]\n",
      "[{'theme': 'Blue'}, {'theme': 'Dark'}, {'theme': 'Default', 'language': 'English', 'showIndex': True}]\n"
     ]
    }
   ],
   "source": [
    "from collections import ChainMap\n",
    "\n",
    "# Creating a ChainMap\n",
    "defaults = {'theme': 'Default', 'language': 'English', 'showIndex': True}\n",
    "user_settings = {'theme': 'Dark'}\n",
    "\n",
    "settings = ChainMap(user_settings, defaults)\n",
    "print(settings['theme'])  # 'Dark' (from user_settings)\n",
    "print(settings['language'])  # 'English' (from defaults)\n",
    "\n",
    "# Adding a new mapping\n",
    "cli_args = {'theme': 'Light'}\n",
    "settings = settings.new_child(cli_args)  # Add cli_args at the front\n",
    "print(settings['theme'])  # 'Light' (from cli_args)\n",
    "\n",
    "# Accessing underlying mappings\n",
    "print(settings.maps)  # [{'theme': 'Light'}, {'theme': 'Dark'}, {'theme': 'Default', 'language': 'English', 'showIndex': True}]\n",
    "\n",
    "# Updating\n",
    "settings['theme'] = 'Blue'  # Updates first mapping\n",
    "print(settings.maps)  # [{'theme': 'Blue'}, {'theme': 'Dark'}, {'theme': 'Default', 'language': 'English', 'showIndex': True}]"
   ]
  },
  {
   "cell_type": "markdown",
   "id": "991c4d94",
   "metadata": {},
   "source": [
    "7. UserDict, UserList, and UserString -\n",
    "These classes are wrappers around dictionary, list, and string objects that make subclassing easier."
   ]
  },
  {
   "cell_type": "code",
   "execution_count": 12,
   "id": "5dd8458d",
   "metadata": {},
   "outputs": [
    {
     "name": "stdout",
     "output_type": "stream",
     "text": [
      "Setting a to 1\n",
      "Setting b to 2\n",
      "Getting a\n",
      "1\n"
     ]
    }
   ],
   "source": [
    "from collections import UserDict\n",
    "\n",
    "class MyDict(UserDict):\n",
    "    def __getitem__(self, key):\n",
    "        # Custom behavior for getting items\n",
    "        print(f\"Getting {key}\")\n",
    "        return super().__getitem__(key)\n",
    "    \n",
    "    def __setitem__(self, key, value):\n",
    "        # Custom behavior for setting items\n",
    "        print(f\"Setting {key} to {value}\")\n",
    "        super().__setitem__(key, value)\n",
    "\n",
    "d = MyDict({'a': 1})\n",
    "d['b'] = 2  # Prints: Setting b to 2\n",
    "print(d['a'])  # Prints: Getting a, then 1"
   ]
  },
  {
   "cell_type": "markdown",
   "id": "a6ff14f9",
   "metadata": {},
   "source": []
  }
 ],
 "metadata": {
  "kernelspec": {
   "display_name": "Python 3",
   "language": "python",
   "name": "python3"
  },
  "language_info": {
   "codemirror_mode": {
    "name": "ipython",
    "version": 3
   },
   "file_extension": ".py",
   "mimetype": "text/x-python",
   "name": "python",
   "nbconvert_exporter": "python",
   "pygments_lexer": "ipython3",
   "version": "3.13.3"
  }
 },
 "nbformat": 4,
 "nbformat_minor": 5
}
