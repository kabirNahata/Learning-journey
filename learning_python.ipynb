{
 "cells": [
  {
   "cell_type": "markdown",
   "id": "1cf95c8f",
   "metadata": {},
   "source": [
    "#### 1. map()\n",
    "#### 2. reduce()\n",
    "#### 3. filter()\n"
   ]
  },
  {
   "cell_type": "markdown",
   "id": "aeaa31fd",
   "metadata": {},
   "source": [
    "### 1. map()"
   ]
  },
  {
   "cell_type": "markdown",
   "id": "9c523d55",
   "metadata": {},
   "source": [
    "#### SYNTAX\n",
    "#### map(function, iterable)"
   ]
  },
  {
   "cell_type": "markdown",
   "id": "e7bb220f",
   "metadata": {},
   "source": [
    "#### TYPE ONE\n"
   ]
  },
  {
   "cell_type": "code",
   "execution_count": 7,
   "id": "73940f8d",
   "metadata": {},
   "outputs": [
    {
     "name": "stdout",
     "output_type": "stream",
     "text": [
      "[1, 4, 9, 16, 25]\n"
     ]
    }
   ],
   "source": [
    "def square(n):\n",
    "    return n * n\n",
    "\n",
    "numbers = [1, 2, 3, 4, 5]\n",
    "squared_numbers = map(square, numbers)\n",
    "print(list(squared_numbers)) \n",
    "# output - [1, 4, 9, 16, 25] "
   ]
  },
  {
   "cell_type": "markdown",
   "id": "48587113",
   "metadata": {},
   "source": [
    "#### TYPE TWO - LAMBDA"
   ]
  },
  {
   "cell_type": "code",
   "execution_count": 8,
   "id": "5181b706",
   "metadata": {},
   "outputs": [
    {
     "name": "stdout",
     "output_type": "stream",
     "text": [
      "[1, 4, 9, 16, 25]\n"
     ]
    }
   ],
   "source": [
    "numbers = [1, 2, 3, 4, 5]\n",
    "squared_numbers = map(lambda x: x**2, numbers)\n",
    "print(list(squared_numbers)) \n",
    "# output - [1, 4, 9, 16, 25]"
   ]
  },
  {
   "cell_type": "markdown",
   "id": "a8295710",
   "metadata": {},
   "source": [
    "#### TYPE THREE - TWO LISTS"
   ]
  },
  {
   "cell_type": "code",
   "execution_count": 9,
   "id": "68c08509",
   "metadata": {},
   "outputs": [
    {
     "name": "stdout",
     "output_type": "stream",
     "text": [
      "[5, 7, 9]\n"
     ]
    }
   ],
   "source": [
    "list1 = [1, 2, 3]\n",
    "list2 = [4, 5, 6]\n",
    "result = map(lambda x, y: x + y, list1, list2)\n",
    "print(list(result))\n",
    "# output - [5, 7, 9]"
   ]
  },
  {
   "cell_type": "markdown",
   "id": "38ee84ff",
   "metadata": {},
   "source": [
    "#### We can add string and multiply strings, The function can be kept inside the map() or separate."
   ]
  },
  {
   "cell_type": "markdown",
   "id": "e1b737ae",
   "metadata": {},
   "source": [
    "### 2. reduce()"
   ]
  },
  {
   "cell_type": "markdown",
   "id": "222de965",
   "metadata": {},
   "source": [
    "#### SYNTAX\n",
    "#### reduce(function, iterable)"
   ]
  },
  {
   "cell_type": "markdown",
   "id": "0308bba6",
   "metadata": {},
   "source": [
    "#### TYPE ONE"
   ]
  },
  {
   "cell_type": "code",
   "execution_count": 11,
   "id": "3a90b22a",
   "metadata": {},
   "outputs": [
    {
     "name": "stdout",
     "output_type": "stream",
     "text": [
      "15\n"
     ]
    }
   ],
   "source": [
    "from functools import reduce\n",
    "\n",
    "def add(x, y):\n",
    "    return x + y\n",
    "\n",
    "numbers = [1, 2, 3, 4, 5]\n",
    "sum_of_numbers = reduce(add, numbers)\n",
    "print(sum_of_numbers) \n",
    "# Output - 15"
   ]
  },
  {
   "cell_type": "markdown",
   "id": "c4084309",
   "metadata": {},
   "source": [
    "#### TYPE TWO - LAMBDA"
   ]
  },
  {
   "cell_type": "code",
   "execution_count": 12,
   "id": "ebd1c182",
   "metadata": {},
   "outputs": [
    {
     "name": "stdout",
     "output_type": "stream",
     "text": [
      "120\n"
     ]
    }
   ],
   "source": [
    "product_of_numbers = reduce(lambda x, y: x * y, numbers)\n",
    "print(product_of_numbers) \n",
    "# Output - 120"
   ]
  },
  {
   "cell_type": "markdown",
   "id": "4148c312",
   "metadata": {},
   "source": [
    "#### Same as type one but using lambda for one liner"
   ]
  },
  {
   "cell_type": "code",
   "execution_count": 14,
   "id": "ec7df0d8",
   "metadata": {},
   "outputs": [
    {
     "name": "stdout",
     "output_type": "stream",
     "text": [
      "10\n"
     ]
    }
   ],
   "source": [
    "numbers = []\n",
    "sum_of_numbers = reduce(lambda x, y: x + y, numbers, 10)\n",
    "print(sum_of_numbers) \n",
    "# Output - 10"
   ]
  },
  {
   "cell_type": "markdown",
   "id": "2886c602",
   "metadata": {},
   "source": [
    "### 3. filter()"
   ]
  },
  {
   "cell_type": "markdown",
   "id": "21a62cf9",
   "metadata": {},
   "source": [
    "#### SYNTAX\n",
    "#### filter(function, iterable)"
   ]
  },
  {
   "cell_type": "markdown",
   "id": "b8f626dc",
   "metadata": {},
   "source": [
    "#### TYPE ONE"
   ]
  },
  {
   "cell_type": "code",
   "execution_count": 16,
   "id": "684fa0aa",
   "metadata": {},
   "outputs": [
    {
     "name": "stdout",
     "output_type": "stream",
     "text": [
      "[2, 4, 6, 8, 10]\n"
     ]
    }
   ],
   "source": [
    "def is_even(x):\n",
    "    return x % 2 == 0\n",
    "\n",
    "numbers = [1, 2, 3, 4, 5, 6, 7, 8, 9, 10]\n",
    "even_numbers = list(filter(is_even, numbers))\n",
    "print(even_numbers)  \n",
    "# Output - [2, 4, 6, 8, 10]"
   ]
  },
  {
   "cell_type": "markdown",
   "id": "293c3620",
   "metadata": {},
   "source": [
    "### Those number which are needed in the function are only kept and the rest of the elements are removed when using filter()"
   ]
  },
  {
   "cell_type": "markdown",
   "id": "72ef50a2",
   "metadata": {},
   "source": [
    "#### TYPE TWO - LAMBDA"
   ]
  },
  {
   "cell_type": "code",
   "execution_count": 17,
   "id": "1ec5ed19",
   "metadata": {},
   "outputs": [
    {
     "name": "stdout",
     "output_type": "stream",
     "text": [
      "[1, 3, 5, 7, 9]\n"
     ]
    }
   ],
   "source": [
    "numbers = [1, 2, 3, 4, 5, 6, 7, 8, 9, 10]\n",
    "odd_numbers = list(filter(lambda x: x % 2 != 0, numbers))\n",
    "print(odd_numbers) \n",
    "# OutpuT - [1, 3, 5, 7, 9]"
   ]
  }
 ],
 "metadata": {
  "kernelspec": {
   "display_name": ".venv",
   "language": "python",
   "name": "python3"
  },
  "language_info": {
   "codemirror_mode": {
    "name": "ipython",
    "version": 3
   },
   "file_extension": ".py",
   "mimetype": "text/x-python",
   "name": "python",
   "nbconvert_exporter": "python",
   "pygments_lexer": "ipython3",
   "version": "3.13.3"
  }
 },
 "nbformat": 4,
 "nbformat_minor": 5
}
