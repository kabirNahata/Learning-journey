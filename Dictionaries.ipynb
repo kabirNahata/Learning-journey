{
  "nbformat": 4,
  "nbformat_minor": 0,
  "metadata": {
    "colab": {
      "provenance": [],
      "authorship_tag": "ABX9TyOIE75lfXRzhZSbYzXGmKT8",
      "include_colab_link": true
    },
    "kernelspec": {
      "name": "python3",
      "display_name": "Python 3"
    },
    "language_info": {
      "name": "python"
    }
  },
  "cells": [
    {
      "cell_type": "markdown",
      "metadata": {
        "id": "view-in-github",
        "colab_type": "text"
      },
      "source": [
        "<a href=\"https://colab.research.google.com/github/kabirNahata/Learning-journey/blob/main/Dictionaries.ipynb\" target=\"_parent\"><img src=\"https://colab.research.google.com/assets/colab-badge.svg\" alt=\"Open In Colab\"/></a>"
      ]
    },
    {
      "cell_type": "code",
      "execution_count": 1,
      "metadata": {
        "id": "-S-hR5KRjrfE",
        "colab": {
          "base_uri": "https://localhost:8080/"
        },
        "outputId": "c1931070-8045-4ad6-f3a9-392f3913601e"
      },
      "outputs": [
        {
          "output_type": "stream",
          "name": "stdout",
          "text": [
            "Alice\n",
            "30\n",
            "{'name': 'Alice', 'age': 31, 'city': 'New York', 'occupation': 'Engineer'}\n",
            "{'name': 'Alice', 'age': 31, 'occupation': 'Engineer'}\n",
            "Name is present in the dictionary\n",
            "Key: name, Value: Alice\n",
            "Key: age, Value: 31\n",
            "Key: occupation, Value: Engineer\n",
            "dict_keys(['name', 'age', 'occupation'])\n",
            "dict_values(['Alice', 31, 'Engineer'])\n",
            "dict_items([('name', 'Alice'), ('age', 31), ('occupation', 'Engineer')])\n",
            "3\n",
            "{}\n"
          ]
        }
      ],
      "source": [
        "# prompt: python dictionary with basic examples\n",
        "\n",
        "# Creating a dictionary\n",
        "my_dict = {\"name\": \"Alice\", \"age\": 30, \"city\": \"New York\"}\n",
        "\n",
        "# Accessing elements\n",
        "print(my_dict[\"name\"])  # Output: Alice\n",
        "print(my_dict.get(\"age\")) # Output: 30\n",
        "\n",
        "# Adding or updating elements\n",
        "my_dict[\"occupation\"] = \"Engineer\"\n",
        "my_dict[\"age\"] = 31\n",
        "print(my_dict) # Output: {'name': 'Alice', 'age': 31, 'city': 'New York', 'occupation': 'Engineer'}\n",
        "\n",
        "# Removing elements\n",
        "del my_dict[\"city\"]\n",
        "print(my_dict) # Output: {'name': 'Alice', 'age': 31, 'occupation': 'Engineer'}\n",
        "\n",
        "# Checking for keys\n",
        "if \"name\" in my_dict:\n",
        "    print(\"Name is present in the dictionary\")\n",
        "\n",
        "# Iterating through the dictionary\n",
        "for key, value in my_dict.items():\n",
        "    print(f\"Key: {key}, Value: {value}\")\n",
        "\n",
        "# Dictionary methods\n",
        "print(my_dict.keys())    # Output: dict_keys(['name', 'age', 'occupation'])\n",
        "print(my_dict.values())  # Output: dict_values(['Alice', 31, 'Engineer'])\n",
        "print(my_dict.items())   # Output: dict_items([('name', 'Alice'), ('age', 31), ('occupation', 'Engineer')])\n",
        "print(len(my_dict))       # Output: 3\n",
        "\n",
        "# Creating an empty dictionary\n",
        "empty_dict = {}\n",
        "print(empty_dict) # Output: {}\n"
      ]
    },
    {
      "cell_type": "code",
      "source": [
        "my_dict = {\"name\": \"Alice\", \"age\": 30, \"city\": \"New York\"}"
      ],
      "metadata": {
        "id": "Y_C6Sj7xkSE4"
      },
      "execution_count": 2,
      "outputs": []
    },
    {
      "cell_type": "code",
      "source": [
        "my_dict.keys()"
      ],
      "metadata": {
        "colab": {
          "base_uri": "https://localhost:8080/"
        },
        "id": "LrXqFQc4kT4l",
        "outputId": "460c2e23-c3da-4eea-c51e-89aafd48229e"
      },
      "execution_count": 3,
      "outputs": [
        {
          "output_type": "execute_result",
          "data": {
            "text/plain": [
              "dict_keys(['name', 'age', 'city'])"
            ]
          },
          "metadata": {},
          "execution_count": 3
        }
      ]
    },
    {
      "cell_type": "code",
      "source": [
        "my_dict.values()"
      ],
      "metadata": {
        "colab": {
          "base_uri": "https://localhost:8080/"
        },
        "id": "v0tscG7KkaNF",
        "outputId": "a0f2ee94-398a-49e4-8c4a-1b8ae5bca9f9"
      },
      "execution_count": 4,
      "outputs": [
        {
          "output_type": "execute_result",
          "data": {
            "text/plain": [
              "dict_values(['Alice', 30, 'New York'])"
            ]
          },
          "metadata": {},
          "execution_count": 4
        }
      ]
    },
    {
      "cell_type": "code",
      "source": [
        "my_dict.get('class')"
      ],
      "metadata": {
        "id": "ndQFjwyKklyu"
      },
      "execution_count": 8,
      "outputs": []
    },
    {
      "cell_type": "code",
      "source": [
        "my_dict.get('class',\" CLASS\")\n"
      ],
      "metadata": {
        "colab": {
          "base_uri": "https://localhost:8080/",
          "height": 36
        },
        "id": "mvm1F8DCktiB",
        "outputId": "63326da2-7974-4ac6-d02b-a166a8e167d0"
      },
      "execution_count": 9,
      "outputs": [
        {
          "output_type": "execute_result",
          "data": {
            "text/plain": [
              "' CLASS'"
            ],
            "application/vnd.google.colaboratory.intrinsic+json": {
              "type": "string"
            }
          },
          "metadata": {},
          "execution_count": 9
        }
      ]
    },
    {
      "cell_type": "code",
      "source": [
        "my_dict"
      ],
      "metadata": {
        "colab": {
          "base_uri": "https://localhost:8080/"
        },
        "id": "HuCKb1FRk3Pa",
        "outputId": "5002b391-bdca-4b89-e0c4-5cb2ff601162"
      },
      "execution_count": 10,
      "outputs": [
        {
          "output_type": "execute_result",
          "data": {
            "text/plain": [
              "{'name': 'Alice', 'age': 30, 'city': 'New York'}"
            ]
          },
          "metadata": {},
          "execution_count": 10
        }
      ]
    },
    {
      "cell_type": "code",
      "source": [
        "my_dict.items()"
      ],
      "metadata": {
        "colab": {
          "base_uri": "https://localhost:8080/"
        },
        "id": "z8uY1oN9lAe1",
        "outputId": "eea7ed19-af76-4c05-ebd5-9b27b0244a87"
      },
      "execution_count": 12,
      "outputs": [
        {
          "output_type": "execute_result",
          "data": {
            "text/plain": [
              "dict_items([('name', 'Alice'), ('age', 30), ('city', 'New York')])"
            ]
          },
          "metadata": {},
          "execution_count": 12
        }
      ]
    },
    {
      "cell_type": "code",
      "source": [
        "my_dict.get('city')"
      ],
      "metadata": {
        "colab": {
          "base_uri": "https://localhost:8080/",
          "height": 36
        },
        "id": "mspds-9olHF2",
        "outputId": "29ed49ad-4413-4c3b-cbcc-9844bd42935a"
      },
      "execution_count": 13,
      "outputs": [
        {
          "output_type": "execute_result",
          "data": {
            "text/plain": [
              "'New York'"
            ],
            "application/vnd.google.colaboratory.intrinsic+json": {
              "type": "string"
            }
          },
          "metadata": {},
          "execution_count": 13
        }
      ]
    },
    {
      "cell_type": "code",
      "source": [
        "my_dict[\"city\"]"
      ],
      "metadata": {
        "colab": {
          "base_uri": "https://localhost:8080/",
          "height": 36
        },
        "id": "MQZ48CRQlSwQ",
        "outputId": "61c21155-39a5-47a1-dd81-58e8f317bf03"
      },
      "execution_count": 14,
      "outputs": [
        {
          "output_type": "execute_result",
          "data": {
            "text/plain": [
              "'New York'"
            ],
            "application/vnd.google.colaboratory.intrinsic+json": {
              "type": "string"
            }
          },
          "metadata": {},
          "execution_count": 14
        }
      ]
    },
    {
      "cell_type": "code",
      "source": [
        "my_dict[\"class\"]=\"9\""
      ],
      "metadata": {
        "id": "AIcOU7Dglf7t"
      },
      "execution_count": 15,
      "outputs": []
    },
    {
      "cell_type": "code",
      "source": [
        "my_dict"
      ],
      "metadata": {
        "colab": {
          "base_uri": "https://localhost:8080/"
        },
        "id": "FEASQqtKmJ4G",
        "outputId": "fb793c41-1815-47d2-be26-413c52905131"
      },
      "execution_count": 16,
      "outputs": [
        {
          "output_type": "execute_result",
          "data": {
            "text/plain": [
              "{'name': 'Alice', 'age': 30, 'city': 'New York', 'class': '9'}"
            ]
          },
          "metadata": {},
          "execution_count": 16
        }
      ]
    },
    {
      "cell_type": "code",
      "source": [
        "my_dict[0]=\"zero\""
      ],
      "metadata": {
        "id": "1y7WfifKmOvW"
      },
      "execution_count": 19,
      "outputs": []
    },
    {
      "cell_type": "code",
      "source": [
        "my_dict"
      ],
      "metadata": {
        "colab": {
          "base_uri": "https://localhost:8080/"
        },
        "id": "k_5vny1FmUZS",
        "outputId": "03491ff7-a366-4097-ca48-46bc9f109a30"
      },
      "execution_count": 20,
      "outputs": [
        {
          "output_type": "execute_result",
          "data": {
            "text/plain": [
              "{'name': 'Alice', 'age': 30, 'city': 'New York', 'class': '9', 0: 'zero'}"
            ]
          },
          "metadata": {},
          "execution_count": 20
        }
      ]
    },
    {
      "cell_type": "code",
      "source": [
        "for key, value in my_dict.items():\n",
        "    print(f\"Key: {key}, Value: {value}\")"
      ],
      "metadata": {
        "colab": {
          "base_uri": "https://localhost:8080/"
        },
        "id": "THdt4A6FmVhj",
        "outputId": "fca21bbd-ad90-477c-a387-6aaab3499671"
      },
      "execution_count": 21,
      "outputs": [
        {
          "output_type": "stream",
          "name": "stdout",
          "text": [
            "Key: name, Value: Alice\n",
            "Key: age, Value: 30\n",
            "Key: city, Value: New York\n",
            "Key: class, Value: 9\n",
            "Key: 0, Value: zero\n"
          ]
        }
      ]
    },
    {
      "cell_type": "code",
      "source": [
        "values = list(my_dict.values())"
      ],
      "metadata": {
        "id": "hK8R1Axgm0SH"
      },
      "execution_count": 22,
      "outputs": []
    },
    {
      "cell_type": "code",
      "source": [
        "values"
      ],
      "metadata": {
        "colab": {
          "base_uri": "https://localhost:8080/"
        },
        "id": "rTxYBhdNnDTv",
        "outputId": "3dac7ba0-17f4-4cb1-a736-676ee57df34c"
      },
      "execution_count": 23,
      "outputs": [
        {
          "output_type": "execute_result",
          "data": {
            "text/plain": [
              "['Alice', 30, 'New York', '9', 'zero']"
            ]
          },
          "metadata": {},
          "execution_count": 23
        }
      ]
    },
    {
      "cell_type": "code",
      "source": [],
      "metadata": {
        "id": "QFqzIFKBnEy2"
      },
      "execution_count": 23,
      "outputs": []
    },
    {
      "cell_type": "markdown",
      "source": [
        "## tuple"
      ],
      "metadata": {
        "id": "YlT6C701nIKG"
      }
    },
    {
      "cell_type": "code",
      "source": [
        "t=(1,2,\"apple\")"
      ],
      "metadata": {
        "id": "tEoafo_bnJpy"
      },
      "execution_count": 24,
      "outputs": []
    },
    {
      "cell_type": "code",
      "source": [
        "t"
      ],
      "metadata": {
        "colab": {
          "base_uri": "https://localhost:8080/"
        },
        "id": "scnhgDxJnO6q",
        "outputId": "f83888c5-b0d3-443f-c0b5-49d7b3fa8bca"
      },
      "execution_count": 25,
      "outputs": [
        {
          "output_type": "execute_result",
          "data": {
            "text/plain": [
              "(1, 2, 'apple')"
            ]
          },
          "metadata": {},
          "execution_count": 25
        }
      ]
    },
    {
      "cell_type": "code",
      "source": [
        "type(t)"
      ],
      "metadata": {
        "colab": {
          "base_uri": "https://localhost:8080/"
        },
        "id": "2E2HCuiLnQni",
        "outputId": "fb06b06e-59ed-4553-bf9d-ef874560dcf7"
      },
      "execution_count": 26,
      "outputs": [
        {
          "output_type": "execute_result",
          "data": {
            "text/plain": [
              "tuple"
            ]
          },
          "metadata": {},
          "execution_count": 26
        }
      ]
    },
    {
      "cell_type": "code",
      "source": [
        "t[0]"
      ],
      "metadata": {
        "colab": {
          "base_uri": "https://localhost:8080/"
        },
        "id": "eWqXksngnT-d",
        "outputId": "6f5aa86b-28d5-4999-acec-b1ca93e7416e"
      },
      "execution_count": 27,
      "outputs": [
        {
          "output_type": "execute_result",
          "data": {
            "text/plain": [
              "1"
            ]
          },
          "metadata": {},
          "execution_count": 27
        }
      ]
    },
    {
      "cell_type": "code",
      "source": [
        "t[::]"
      ],
      "metadata": {
        "colab": {
          "base_uri": "https://localhost:8080/"
        },
        "id": "0ngaOE5XnY3G",
        "outputId": "e36555f8-c506-4cd5-bd5d-4dc8b2bbcfd0"
      },
      "execution_count": 28,
      "outputs": [
        {
          "output_type": "execute_result",
          "data": {
            "text/plain": [
              "(1, 2, 'apple')"
            ]
          },
          "metadata": {},
          "execution_count": 28
        }
      ]
    },
    {
      "cell_type": "code",
      "source": [
        "t[::-1]"
      ],
      "metadata": {
        "colab": {
          "base_uri": "https://localhost:8080/"
        },
        "id": "pkPr9-YBneWE",
        "outputId": "6babf55b-9cc9-4853-8cfa-445df881dcaf"
      },
      "execution_count": 29,
      "outputs": [
        {
          "output_type": "execute_result",
          "data": {
            "text/plain": [
              "('apple', 2, 1)"
            ]
          },
          "metadata": {},
          "execution_count": 29
        }
      ]
    },
    {
      "cell_type": "code",
      "source": [
        "mydataset = {\n",
        "  'cars': [\"BMW\", \"Volvo\", \"Ford\"],\n",
        "  'passings': [3, 7, 2]\n",
        "}"
      ],
      "metadata": {
        "id": "3rYkhieKnl9X"
      },
      "execution_count": 32,
      "outputs": []
    },
    {
      "cell_type": "code",
      "source": [
        "mydataset"
      ],
      "metadata": {
        "colab": {
          "base_uri": "https://localhost:8080/"
        },
        "id": "Jqpf8i5lpCPU",
        "outputId": "5a637019-e70b-4842-927a-569208af1b44"
      },
      "execution_count": 33,
      "outputs": [
        {
          "output_type": "execute_result",
          "data": {
            "text/plain": [
              "{'cars': ['BMW', 'Volvo', 'Ford'], 'passings': [3, 7, 2]}"
            ]
          },
          "metadata": {},
          "execution_count": 33
        }
      ]
    },
    {
      "cell_type": "code",
      "source": [
        "mydataset['cars']"
      ],
      "metadata": {
        "colab": {
          "base_uri": "https://localhost:8080/"
        },
        "id": "cUVEKXV6pDkh",
        "outputId": "831a81e1-e5b6-465e-cc10-d904a7c2003d"
      },
      "execution_count": 34,
      "outputs": [
        {
          "output_type": "execute_result",
          "data": {
            "text/plain": [
              "['BMW', 'Volvo', 'Ford']"
            ]
          },
          "metadata": {},
          "execution_count": 34
        }
      ]
    },
    {
      "cell_type": "code",
      "source": [
        "mydataset.get('passings')"
      ],
      "metadata": {
        "colab": {
          "base_uri": "https://localhost:8080/"
        },
        "id": "ONh2VZnKpIbo",
        "outputId": "378b010d-ca20-4589-a9a7-82d15001863c"
      },
      "execution_count": 35,
      "outputs": [
        {
          "output_type": "execute_result",
          "data": {
            "text/plain": [
              "[3, 7, 2]"
            ]
          },
          "metadata": {},
          "execution_count": 35
        }
      ]
    },
    {
      "cell_type": "code",
      "source": [
        "# Empty dictionary\n",
        "empty_dict = {}\n",
        "\n",
        "# Dictionary with initial key-value pairs\n",
        "my_dict = {\n",
        "    \"name\": \"Alice\",\n",
        "    \"age\": 30,\n",
        "    \"city\": \"New York\"\n",
        "}"
      ],
      "metadata": {
        "id": "5jay0T1kpM3o"
      },
      "execution_count": 36,
      "outputs": []
    },
    {
      "cell_type": "code",
      "source": [
        "print(my_dict)"
      ],
      "metadata": {
        "colab": {
          "base_uri": "https://localhost:8080/"
        },
        "id": "dTM-FsBh95Mh",
        "outputId": "2af222a6-d62b-4784-f41e-fda1e9f522f7"
      },
      "execution_count": 37,
      "outputs": [
        {
          "output_type": "stream",
          "name": "stdout",
          "text": [
            "{'name': 'Alice', 'age': 30, 'city': 'New York'}\n"
          ]
        }
      ]
    },
    {
      "cell_type": "code",
      "source": [
        "# prompt: add more in the my_dict with Alice, dont replace Alice but add beside it inside the key name\n",
        "\n",
        "my_dict = {\"name\": \"Alice\", \"age\": 30, \"city\": \"New York\"}\n",
        "\n",
        "# Modify the dictionary to include \"Alice\" in the key name\n",
        "my_dict[\"name_Alice\"] = my_dict.pop(\"name\")\n",
        "\n",
        "my_dict\n"
      ],
      "metadata": {
        "id": "ExgXHfHd97Et",
        "colab": {
          "base_uri": "https://localhost:8080/"
        },
        "outputId": "beb06435-0454-4d31-e89c-b38a5b882688"
      },
      "execution_count": 38,
      "outputs": [
        {
          "output_type": "execute_result",
          "data": {
            "text/plain": [
              "{'age': 30, 'city': 'New York', 'name_Alice': 'Alice'}"
            ]
          },
          "metadata": {},
          "execution_count": 38
        }
      ]
    },
    {
      "cell_type": "code",
      "source": [],
      "metadata": {
        "id": "wPfxnPycg2IE"
      },
      "execution_count": 38,
      "outputs": []
    }
  ]
}