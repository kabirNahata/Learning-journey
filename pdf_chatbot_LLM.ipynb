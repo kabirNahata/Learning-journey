{
  "nbformat": 4,
  "nbformat_minor": 0,
  "metadata": {
    "colab": {
      "provenance": [],
      "authorship_tag": "ABX9TyOT41/RV7MSR/hifhl1ejja",
      "include_colab_link": true
    },
    "kernelspec": {
      "name": "python3",
      "display_name": "Python 3"
    },
    "language_info": {
      "name": "python"
    }
  },
  "cells": [
    {
      "cell_type": "markdown",
      "metadata": {
        "id": "view-in-github",
        "colab_type": "text"
      },
      "source": [
        "<a href=\"https://colab.research.google.com/github/kabirNahata/Learning-journey/blob/main/pdf_chatbot_LLM.ipynb\" target=\"_parent\"><img src=\"https://colab.research.google.com/assets/colab-badge.svg\" alt=\"Open In Colab\"/></a>"
      ]
    },
    {
      "cell_type": "markdown",
      "source": [
        "Implementing RAG"
      ],
      "metadata": {
        "id": "b5N-NzrYwsCH"
      }
    },
    {
      "cell_type": "code",
      "source": [
        "from langchain.document_loaders import PyPDFLoader"
      ],
      "metadata": {
        "id": "bCGxyPUOw8ew"
      },
      "execution_count": 60,
      "outputs": []
    },
    {
      "cell_type": "code",
      "source": [
        "pdf_obj = PyPDFLoader(\"CV_AnishChapagain_2024.pdf\")\n",
        "pdf_doc = pdf_obj.load()"
      ],
      "metadata": {
        "id": "MttYGgZixR0-"
      },
      "execution_count": 61,
      "outputs": []
    },
    {
      "cell_type": "code",
      "source": [
        "pdf_doc"
      ],
      "metadata": {
        "id": "pk20qWEyzPli"
      },
      "execution_count": null,
      "outputs": []
    },
    {
      "cell_type": "code",
      "source": [
        "dir(pdf_doc)"
      ],
      "metadata": {
        "id": "RBCm_-PZzzGF"
      },
      "execution_count": null,
      "outputs": []
    },
    {
      "cell_type": "code",
      "source": [
        "pdf_doc[0].metadata"
      ],
      "metadata": {
        "colab": {
          "base_uri": "https://localhost:8080/"
        },
        "id": "veGsVM5I0FhW",
        "outputId": "cea6716a-510d-4973-b8ad-9912da148431"
      },
      "execution_count": 64,
      "outputs": [
        {
          "output_type": "execute_result",
          "data": {
            "text/plain": [
              "{'producer': 'Microsoft® Word 2016',\n",
              " 'creator': 'Microsoft® Word 2016',\n",
              " 'creationdate': '2024-06-10T16:37:00+05:45',\n",
              " 'title': 'Anish Chapagain:CV',\n",
              " 'author': 'PETERCHAPAGAIN',\n",
              " 'moddate': '2024-06-10T16:37:00+05:45',\n",
              " 'source': 'CV_AnishChapagain_2024.pdf',\n",
              " 'total_pages': 4,\n",
              " 'page': 0,\n",
              " 'page_label': '1'}"
            ]
          },
          "metadata": {},
          "execution_count": 64
        }
      ]
    },
    {
      "cell_type": "code",
      "source": [
        "pdf_doc[-1].metadata"
      ],
      "metadata": {
        "colab": {
          "base_uri": "https://localhost:8080/"
        },
        "id": "9mZP3QK20PHF",
        "outputId": "65fb2658-94dd-4996-eec2-f044adca1614"
      },
      "execution_count": 65,
      "outputs": [
        {
          "output_type": "execute_result",
          "data": {
            "text/plain": [
              "{'producer': 'Microsoft® Word 2016',\n",
              " 'creator': 'Microsoft® Word 2016',\n",
              " 'creationdate': '2024-06-10T16:37:00+05:45',\n",
              " 'title': 'Anish Chapagain:CV',\n",
              " 'author': 'PETERCHAPAGAIN',\n",
              " 'moddate': '2024-06-10T16:37:00+05:45',\n",
              " 'source': 'CV_AnishChapagain_2024.pdf',\n",
              " 'total_pages': 4,\n",
              " 'page': 3,\n",
              " 'page_label': '4'}"
            ]
          },
          "metadata": {},
          "execution_count": 65
        }
      ]
    },
    {
      "cell_type": "code",
      "source": [
        "len(pdf_doc)"
      ],
      "metadata": {
        "colab": {
          "base_uri": "https://localhost:8080/"
        },
        "id": "O5BKP56I0rjp",
        "outputId": "aa941289-d156-401a-bec0-d61dfb48d39e"
      },
      "execution_count": 66,
      "outputs": [
        {
          "output_type": "execute_result",
          "data": {
            "text/plain": [
              "4"
            ]
          },
          "metadata": {},
          "execution_count": 66
        }
      ]
    },
    {
      "cell_type": "code",
      "source": [
        "from langchain.text_splitter import CharacterTextSplitter, RecursiveCharacterTextSplitter"
      ],
      "metadata": {
        "id": "Fd9mabpJ0ugn"
      },
      "execution_count": 67,
      "outputs": []
    },
    {
      "cell_type": "code",
      "source": [
        "text_splitter = RecursiveCharacterTextSplitter(\n",
        "    chunk_size = 1000,\n",
        "    chunk_overlap = 100\n",
        ")"
      ],
      "metadata": {
        "id": "zxVxnuW20-ld"
      },
      "execution_count": 68,
      "outputs": []
    },
    {
      "cell_type": "code",
      "source": [
        "texts = text_splitter.split_documents(pdf_doc)"
      ],
      "metadata": {
        "id": "jnCKCWxE1LdB"
      },
      "execution_count": 69,
      "outputs": []
    },
    {
      "cell_type": "code",
      "source": [
        "len(texts)"
      ],
      "metadata": {
        "colab": {
          "base_uri": "https://localhost:8080/"
        },
        "id": "VkVIlsIm1Pke",
        "outputId": "2997dc73-6dd4-45a0-fc18-6692eded0f37"
      },
      "execution_count": 70,
      "outputs": [
        {
          "output_type": "execute_result",
          "data": {
            "text/plain": [
              "14"
            ]
          },
          "metadata": {},
          "execution_count": 70
        }
      ]
    },
    {
      "cell_type": "code",
      "source": [
        "texts[0].metadata"
      ],
      "metadata": {
        "colab": {
          "base_uri": "https://localhost:8080/"
        },
        "id": "ozhY1g1s1SZR",
        "outputId": "eaaa80f3-0235-45af-b533-c8acff335365"
      },
      "execution_count": 71,
      "outputs": [
        {
          "output_type": "execute_result",
          "data": {
            "text/plain": [
              "{'producer': 'Microsoft® Word 2016',\n",
              " 'creator': 'Microsoft® Word 2016',\n",
              " 'creationdate': '2024-06-10T16:37:00+05:45',\n",
              " 'title': 'Anish Chapagain:CV',\n",
              " 'author': 'PETERCHAPAGAIN',\n",
              " 'moddate': '2024-06-10T16:37:00+05:45',\n",
              " 'source': 'CV_AnishChapagain_2024.pdf',\n",
              " 'total_pages': 4,\n",
              " 'page': 0,\n",
              " 'page_label': '1'}"
            ]
          },
          "metadata": {},
          "execution_count": 71
        }
      ]
    },
    {
      "cell_type": "code",
      "source": [
        "texts[-1].metadata"
      ],
      "metadata": {
        "colab": {
          "base_uri": "https://localhost:8080/"
        },
        "id": "pA7G2pc91asH",
        "outputId": "d003b278-a9e3-423c-85af-851f8c540ed7"
      },
      "execution_count": 72,
      "outputs": [
        {
          "output_type": "execute_result",
          "data": {
            "text/plain": [
              "{'producer': 'Microsoft® Word 2016',\n",
              " 'creator': 'Microsoft® Word 2016',\n",
              " 'creationdate': '2024-06-10T16:37:00+05:45',\n",
              " 'title': 'Anish Chapagain:CV',\n",
              " 'author': 'PETERCHAPAGAIN',\n",
              " 'moddate': '2024-06-10T16:37:00+05:45',\n",
              " 'source': 'CV_AnishChapagain_2024.pdf',\n",
              " 'total_pages': 4,\n",
              " 'page': 3,\n",
              " 'page_label': '4'}"
            ]
          },
          "metadata": {},
          "execution_count": 72
        }
      ]
    },
    {
      "cell_type": "code",
      "source": [
        "!pip install langchain_huggingface"
      ],
      "metadata": {
        "id": "5uM243r3PyEr"
      },
      "execution_count": null,
      "outputs": []
    },
    {
      "cell_type": "code",
      "source": [
        "from langchain_huggingface import HuggingFaceEmbeddings"
      ],
      "metadata": {
        "id": "mipVs4C-1l_b"
      },
      "execution_count": 74,
      "outputs": []
    },
    {
      "cell_type": "code",
      "source": [
        "embeddings_model = HuggingFaceEmbeddings(model_name='sentence-transformers/all-mpnet-base-v2') # uses default or provide model name"
      ],
      "metadata": {
        "id": "ILCAd7E52u5n"
      },
      "execution_count": 75,
      "outputs": []
    },
    {
      "cell_type": "code",
      "source": [
        "embeddings_model"
      ],
      "metadata": {
        "colab": {
          "base_uri": "https://localhost:8080/"
        },
        "id": "V5PS9SUy3JY6",
        "outputId": "72f22c58-dd18-485c-e81f-7fbad591831b"
      },
      "execution_count": 76,
      "outputs": [
        {
          "output_type": "execute_result",
          "data": {
            "text/plain": [
              "HuggingFaceEmbeddings(model_name='sentence-transformers/all-mpnet-base-v2', cache_folder=None, model_kwargs={}, encode_kwargs={}, query_encode_kwargs={}, multi_process=False, show_progress=False)"
            ]
          },
          "metadata": {},
          "execution_count": 76
        }
      ]
    },
    {
      "cell_type": "code",
      "source": [
        "embeddings = embeddings_model.embed_documents([t.page_content for t in texts])"
      ],
      "metadata": {
        "id": "a4_GRSeg3MBI"
      },
      "execution_count": 77,
      "outputs": []
    },
    {
      "cell_type": "code",
      "source": [
        "embeddings[2]"
      ],
      "metadata": {
        "id": "YC0FSI9v3Qp-"
      },
      "execution_count": null,
      "outputs": []
    },
    {
      "cell_type": "code",
      "source": [
        "print(f\"Chunk size: {len(embeddings[0])}\")\n",
        "print(f\"Shape: {(len(embeddings), len(embeddings[0]))}\")"
      ],
      "metadata": {
        "colab": {
          "base_uri": "https://localhost:8080/"
        },
        "id": "IfWzknaT3aXH",
        "outputId": "6b5aa2e8-f150-4ed4-a058-b909b104d266"
      },
      "execution_count": 79,
      "outputs": [
        {
          "output_type": "stream",
          "name": "stdout",
          "text": [
            "Chunk size: 768\n",
            "Shape: (14, 768)\n"
          ]
        }
      ]
    },
    {
      "cell_type": "code",
      "source": [
        "from langchain.vectorstores import Chroma"
      ],
      "metadata": {
        "id": "NFSw06SR3xsL"
      },
      "execution_count": 80,
      "outputs": []
    },
    {
      "cell_type": "code",
      "source": [
        "!pip install chromadb"
      ],
      "metadata": {
        "id": "MDf4ny0rQQrO"
      },
      "execution_count": null,
      "outputs": []
    },
    {
      "cell_type": "code",
      "source": [
        "persist_directory = 'sample_data/chroma'\n",
        "\n",
        "vectordb = Chroma.from_documents(\n",
        "    documents=texts,\n",
        "    embedding=embeddings_model,\n",
        "    persist_directory=persist_directory\n",
        ")"
      ],
      "metadata": {
        "id": "bMZamxqt3-AR"
      },
      "execution_count": 83,
      "outputs": []
    },
    {
      "cell_type": "code",
      "source": [
        "vectordb.persist()"
      ],
      "metadata": {
        "colab": {
          "base_uri": "https://localhost:8080/"
        },
        "id": "-3yq3U6w4O2D",
        "outputId": "fddfe5a4-56e5-42a7-87b3-77a195a3c108"
      },
      "execution_count": 84,
      "outputs": [
        {
          "output_type": "stream",
          "name": "stderr",
          "text": [
            "<ipython-input-84-d832e715b29a>:1: LangChainDeprecationWarning: Since Chroma 0.4.x the manual persistence method is no longer supported as docs are automatically persisted.\n",
            "  vectordb.persist()\n"
          ]
        }
      ]
    },
    {
      "cell_type": "code",
      "source": [
        "print(vectordb._collection.count())"
      ],
      "metadata": {
        "colab": {
          "base_uri": "https://localhost:8080/"
        },
        "id": "EGh1r9PG51eS",
        "outputId": "797921be-be38-4e37-c352-90428da9d103"
      },
      "execution_count": 85,
      "outputs": [
        {
          "output_type": "stream",
          "name": "stdout",
          "text": [
            "14\n"
          ]
        }
      ]
    },
    {
      "cell_type": "code",
      "source": [
        "print(dir(vectordb))"
      ],
      "metadata": {
        "colab": {
          "base_uri": "https://localhost:8080/"
        },
        "id": "VzoBzFMD54W4",
        "outputId": "8b31d1e0-e956-4ab2-e43f-9bc70c6237c7"
      },
      "execution_count": 86,
      "outputs": [
        {
          "output_type": "stream",
          "name": "stdout",
          "text": [
            "['_Chroma__query_collection', '_LANGCHAIN_DEFAULT_COLLECTION_NAME', '__abstractmethods__', '__annotations__', '__class__', '__delattr__', '__dict__', '__dir__', '__doc__', '__eq__', '__format__', '__ge__', '__getattribute__', '__getstate__', '__gt__', '__hash__', '__init__', '__init_subclass__', '__le__', '__len__', '__lt__', '__module__', '__ne__', '__new__', '__reduce__', '__reduce_ex__', '__repr__', '__setattr__', '__sizeof__', '__slots__', '__str__', '__subclasshook__', '__weakref__', '_abc_impl', '_asimilarity_search_with_relevance_scores', '_client', '_client_settings', '_collection', '_cosine_relevance_score_fn', '_embedding_function', '_euclidean_relevance_score_fn', '_get_retriever_tags', '_max_inner_product_relevance_score_fn', '_persist_directory', '_select_relevance_score_fn', '_similarity_search_with_relevance_scores', 'aadd_documents', 'aadd_texts', 'add_documents', 'add_images', 'add_texts', 'adelete', 'afrom_documents', 'afrom_texts', 'aget_by_ids', 'amax_marginal_relevance_search', 'amax_marginal_relevance_search_by_vector', 'as_retriever', 'asearch', 'asimilarity_search', 'asimilarity_search_by_vector', 'asimilarity_search_with_relevance_scores', 'asimilarity_search_with_score', 'delete', 'delete_collection', 'embeddings', 'encode_image', 'from_documents', 'from_texts', 'get', 'get_by_ids', 'max_marginal_relevance_search', 'max_marginal_relevance_search_by_vector', 'override_relevance_score_fn', 'persist', 'search', 'similarity_search', 'similarity_search_by_image', 'similarity_search_by_image_with_relevance_score', 'similarity_search_by_vector', 'similarity_search_by_vector_with_relevance_scores', 'similarity_search_with_relevance_scores', 'similarity_search_with_score', 'update_document', 'update_documents']\n"
          ]
        }
      ]
    },
    {
      "cell_type": "code",
      "source": [
        "docs = vectordb.similarity_search(\"List all the links available\", k=3)"
      ],
      "metadata": {
        "id": "-Ea-u_Kx59vK"
      },
      "execution_count": 87,
      "outputs": []
    },
    {
      "cell_type": "code",
      "source": [
        "docs"
      ],
      "metadata": {
        "colab": {
          "base_uri": "https://localhost:8080/"
        },
        "id": "4fDOWl3T6u-Y",
        "outputId": "ddf90377-c394-416e-edb6-58b9e1fe65ab"
      },
      "execution_count": 88,
      "outputs": [
        {
          "output_type": "execute_result",
          "data": {
            "text/plain": [
              "[Document(metadata={'total_pages': 4, 'creator': 'Microsoft® Word 2016', 'creationdate': '2024-06-10T16:37:00+05:45', 'author': 'PETERCHAPAGAIN', 'page': 3, 'source': 'CV_AnishChapagain_2024.pdf', 'moddate': '2024-06-10T16:37:00+05:45', 'producer': 'Microsoft® Word 2016', 'title': 'Anish Chapagain:CV', 'page_label': '4'}, page_content='● Freelancing, Web development using CakePHP (www.netrenos.com) - 2011  \\n● Library Management System using Oracle with Developer, 2004 (Himalayan IT)  \\n   \\n \\nLinkedIn Profile: https://www.linkedin.com/in/anish-chapagain-a581386/ \\nReferences are available upon request and as required.'),\n",
              " Document(metadata={'source': 'CV_AnishChapagain_2024.pdf', 'author': 'PETERCHAPAGAIN', 'creator': 'Microsoft® Word 2016', 'page': 2, 'page_label': '3', 'moddate': '2024-06-10T16:37:00+05:45', 'producer': 'Microsoft® Word 2016', 'total_pages': 4, 'creationdate': '2024-06-10T16:37:00+05:45', 'title': 'Anish Chapagain:CV'}, page_content='●  Lecturing in Programming Languages (C, C++, Java), Basic Hardware and Networking.  \\n  \\nHimalayan Institute of Technology. New Baneshwor, Kathmandu, Nepal.   \\nIT Instructor/Programmer                                                                                          17th Nov, 2002 – 8th Oct, 2007  \\n● Project instructor for Oracle with Developer & PL/SQL, Ministry of General Admin (Nijamati Sansthan)   \\n●  Software Development in C, C++, Borland C++ Builder, Java, Oracle with Developer.  \\n● Website Designing HTML, PHP with MySQL, JavaScript, CSS, Apache and Linux.  \\n● Instructing MS-DOS, Microsoft Office, Adobe Photoshop, Oracle, MySQL, PL/SQL, C, C++, Java, HTML.  \\n \\n \\nPublications \\nBook Writer (Contract Author). Packt Publishing. UK, India. https://www.packtpub.com/ \\n● “Hands-On Web Scraping with Python: Extract quality data from the web using effective Python techniques, \\n2nd Edition”. ISBN: 9781837636211, Oct-2023.'),\n",
              " Document(metadata={'moddate': '2024-06-10T16:37:00+05:45', 'source': 'CV_AnishChapagain_2024.pdf', 'page_label': '3', 'creator': 'Microsoft® Word 2016', 'title': 'Anish Chapagain:CV', 'producer': 'Microsoft® Word 2016', 'total_pages': 4, 'creationdate': '2024-06-10T16:37:00+05:45', 'page': 2, 'author': 'PETERCHAPAGAIN'}, page_content='2nd Edition”. ISBN: 9781837636211, Oct-2023.  \\n● “Hands-On Web Scraping with Python”. ISBN: 9781789533392, Jul-2019. \\n \\n \\nEducation     \\nM.Sc Computer System (2007-2008), Bangor University, Wales (U.K)  \\n● Learning/Development using Java and Python (AI, Text Mining, Web Mining, NLP, Web Scraping). PHP/ \\nJavaScript/ MySQL for Web development.   \\n● Dissertation: Development of  Text Mining Toolkit ‘TUI’, a GUI application in Python handling Text Mining \\nframework (TMT) in C, by Dr. WJ Teahan. \\n● Development of Personal profiling system ‘webwiki’ using Python (Web Scraping techniques, Wikipedia).  \\n  \\nExecutive-MBA (HRM) (2004-2006), Himalayan Whitehouse Int’l College, Ktm, Nepal.  \\n● Specialization in Human Resource Management, Thesis submitted “Human Resource Information System”.  \\n● Subjects: Accounting, Organization Behavior, Research Methodology, TQM, HRM, Economics etc.  \\n  \\nB.Sc. Computer Science (1999-2002), Campion College, Kupondole, Lalitpur, Nepal.')]"
            ]
          },
          "metadata": {},
          "execution_count": 88
        }
      ]
    },
    {
      "cell_type": "code",
      "source": [
        "for doc in docs:\n",
        "    print(doc.page_content)\n",
        "    print(f\"----\" *20)"
      ],
      "metadata": {
        "id": "hqjZ96XZ6wR1"
      },
      "execution_count": null,
      "outputs": []
    },
    {
      "cell_type": "code",
      "source": [
        "search_Web = vectordb.similarity_search(\"how often the term 'Web' is mentioned\", k=3)"
      ],
      "metadata": {
        "id": "Skc3ve5k68dO"
      },
      "execution_count": null,
      "outputs": []
    },
    {
      "cell_type": "code",
      "source": [
        "for web in search_Web:\n",
        "    print(web.page_content[:-1])"
      ],
      "metadata": {
        "id": "qnB_xWRm7LfU"
      },
      "execution_count": null,
      "outputs": []
    },
    {
      "cell_type": "code",
      "source": [
        "retriever = vectordb.as_retriever()"
      ],
      "metadata": {
        "id": "-JUh1uZA7P81"
      },
      "execution_count": null,
      "outputs": []
    },
    {
      "cell_type": "code",
      "source": [
        "doocs = retriever.invoke(\"web scrapping\")\n",
        "doocs"
      ],
      "metadata": {
        "id": "H3PnIRHR9RfD"
      },
      "execution_count": null,
      "outputs": []
    },
    {
      "cell_type": "code",
      "source": [
        "for dooc in doocs:\n",
        "  print(dooc.page_content)"
      ],
      "metadata": {
        "id": "hmG5XAIw9YS-"
      },
      "execution_count": null,
      "outputs": []
    },
    {
      "cell_type": "code",
      "source": [
        "# prompt: pip install with verbose false\n",
        "\n",
        "!pip install --quiet langchain_huggingface"
      ],
      "metadata": {
        "id": "0Lpna-S-RH4Z"
      },
      "execution_count": null,
      "outputs": []
    },
    {
      "cell_type": "code",
      "source": [
        "!pip install langchain_google_genai"
      ],
      "metadata": {
        "id": "jz4GkxfkL5HA"
      },
      "execution_count": null,
      "outputs": []
    },
    {
      "cell_type": "code",
      "source": [
        "from langchain_google_genai import ChatGoogleGenerativeAI\n",
        "from langchain.schema import StrOutputParser"
      ],
      "metadata": {
        "id": "Hg4uUtl7-jJy"
      },
      "execution_count": 90,
      "outputs": []
    },
    {
      "cell_type": "code",
      "source": [
        "key=\"\""
      ],
      "metadata": {
        "id": "0r3xKg9XZvYf"
      },
      "execution_count": 131,
      "outputs": []
    },
    {
      "cell_type": "code",
      "source": [
        "# llm_model = ChatGoogleGenerativeAI(\n",
        "#     model=\"gemini-1.5-flash-latest\",\n",
        "#     google_api_key=api_key,\n",
        "#     )\n",
        "llm_model = ChatGoogleGenerativeAI(\n",
        "     model=\"gemini-2.0-flash\",\n",
        "     google_api_key=key,\n",
        "     )"
      ],
      "metadata": {
        "id": "mXr_g770MN4I"
      },
      "execution_count": 91,
      "outputs": []
    },
    {
      "cell_type": "code",
      "source": [
        "llm_model"
      ],
      "metadata": {
        "colab": {
          "base_uri": "https://localhost:8080/"
        },
        "id": "xHMZNoQeNTyW",
        "outputId": "0b8cd30d-3d16-4cc3-8a42-53c798f992a9"
      },
      "execution_count": 92,
      "outputs": [
        {
          "output_type": "execute_result",
          "data": {
            "text/plain": [
              "ChatGoogleGenerativeAI(model='models/gemini-2.0-flash', google_api_key=SecretStr('**********'), client=<google.ai.generativelanguage_v1beta.services.generative_service.client.GenerativeServiceClient object at 0x7c923aa1a8d0>, default_metadata=(), model_kwargs={})"
            ]
          },
          "metadata": {},
          "execution_count": 92
        }
      ]
    },
    {
      "cell_type": "code",
      "source": [
        "from langchain import PromptTemplate"
      ],
      "metadata": {
        "id": "TiQV43UTNZZf"
      },
      "execution_count": 93,
      "outputs": []
    },
    {
      "cell_type": "code",
      "source": [
        "llm_prompt_template = \"\"\"You are an assistant, use the following context to answer the question.\n",
        "Use two to three sentences maximum and keep the answer concise.\\n\n",
        "Question: {question} \\nContext: {context} \\nAnswer:\"\"\""
      ],
      "metadata": {
        "id": "dBkKRrIWNfIc"
      },
      "execution_count": 94,
      "outputs": []
    },
    {
      "cell_type": "code",
      "source": [
        "llm_prompt = PromptTemplate.from_template(llm_prompt_template)\n",
        "print(llm_prompt)"
      ],
      "metadata": {
        "colab": {
          "base_uri": "https://localhost:8080/"
        },
        "id": "EzKRWzwsNs8T",
        "outputId": "15c14520-62fc-4b70-9b10-923169d157da"
      },
      "execution_count": 95,
      "outputs": [
        {
          "output_type": "stream",
          "name": "stdout",
          "text": [
            "input_variables=['context', 'question'] input_types={} partial_variables={} template='You are an assistant, use the following context to answer the question.\\nUse two to three sentences maximum and keep the answer concise.\\n\\nQuestion: {question} \\nContext: {context} \\nAnswer:'\n"
          ]
        }
      ]
    },
    {
      "cell_type": "code",
      "source": [
        "from langchain.schema.runnable import RunnablePassthrough"
      ],
      "metadata": {
        "id": "NoOek2mPOBK8"
      },
      "execution_count": 96,
      "outputs": []
    },
    {
      "cell_type": "code",
      "source": [
        "def format_docs(docs):\n",
        "    return \"\\n\\n\".join(doc.page_content for doc in docs)\n",
        "\n",
        "def reply(question=''):\n",
        "    chain = (\n",
        "    {\"context\": vectordb.as_retriever() | format_docs, \"question\": RunnablePassthrough()}\n",
        "    | llm_prompt | llm_model | StrOutputParser()\n",
        "    )\n",
        "    print(chain.invoke(question))"
      ],
      "metadata": {
        "id": "lvsG1nVdN-KU"
      },
      "execution_count": 99,
      "outputs": []
    },
    {
      "cell_type": "code",
      "source": [
        "reply(\"how often the term 'Web' is mentioned\")"
      ],
      "metadata": {
        "colab": {
          "base_uri": "https://localhost:8080/"
        },
        "id": "WAyO6MW5Oji6",
        "outputId": "13bdc6f0-9f0e-4a87-c21c-60f1eb4bd05c"
      },
      "execution_count": 100,
      "outputs": [
        {
          "output_type": "stream",
          "name": "stdout",
          "text": [
            "The term \"Web\" is mentioned 11 times in the provided context. It appears in the context of web scraping, web development, and website-related projects.\n"
          ]
        }
      ]
    },
    {
      "cell_type": "code",
      "source": [
        "reply(\"How many programming languages did you find in the context.\")"
      ],
      "metadata": {
        "colab": {
          "base_uri": "https://localhost:8080/"
        },
        "id": "n9Z8aHlNV4bu",
        "outputId": "9748530a-7cfe-423e-ee47-4384ce3b45d0"
      },
      "execution_count": 124,
      "outputs": [
        {
          "output_type": "stream",
          "name": "stdout",
          "text": [
            "I found 14 programming languages in the context. These include C, C++, Java, PL/SQL, HTML, PHP, JavaScript, CSS, Python, Shell Scripts, Django, PySpark, PyTorch, and Pandas.\n"
          ]
        }
      ]
    },
    {
      "cell_type": "code",
      "source": [
        "reply(\"How many programming languages did you find in the context, provide me with the lists of the languages.\")"
      ],
      "metadata": {
        "colab": {
          "base_uri": "https://localhost:8080/"
        },
        "id": "OkG6h7KKXZJg",
        "outputId": "268343fa-739c-4807-9115-e06469a691c5"
      },
      "execution_count": 125,
      "outputs": [
        {
          "output_type": "stream",
          "name": "stdout",
          "text": [
            "I found 20 programming languages in the context. The languages are C, C++, Java, Oracle with Developer & PL/SQL, Borland C++ Builder, HTML, PHP, MySQL, JavaScript, CSS, Python, Shell Scripts, .NET, LINQ, MVC and others like NLTK, Scikit-learn, PySpark, PyTorch, Django, Pandas.\n"
          ]
        }
      ]
    },
    {
      "cell_type": "code",
      "source": [
        "reply(\"How many programming languages did you find in the context.\")"
      ],
      "metadata": {
        "colab": {
          "base_uri": "https://localhost:8080/"
        },
        "id": "ZjnUWdeSXrcg",
        "outputId": "beb5d31f-fa0d-4a7b-f90e-348f66dddf36"
      },
      "execution_count": 126,
      "outputs": [
        {
          "output_type": "stream",
          "name": "stdout",
          "text": [
            "Based on the context, I found 14 programming languages: C, C++, Java, Oracle with Developer & PL/SQL, Borland C++ Builder, HTML, PHP, JavaScript, Python, Shell Scripts, SQL, PySpark, PyTorch, and Django.\n"
          ]
        }
      ]
    },
    {
      "cell_type": "code",
      "source": [
        "reply(\"How many programming languages did you find in the context, provide me with the lists of the languages only.\")"
      ],
      "metadata": {
        "colab": {
          "base_uri": "https://localhost:8080/"
        },
        "id": "2Mg0qU60XuMu",
        "outputId": "5b506152-9754-48e5-98ed-82a84a3d8a6e"
      },
      "execution_count": 128,
      "outputs": [
        {
          "output_type": "stream",
          "name": "stdout",
          "text": [
            "I found 19 programming languages in the context. They are: C, C++, Java, PL/SQL, HTML, PHP, JavaScript, CSS, Python, Shell Scripts, NLTK, PySpark, PyTorch, Django, .NET, LINQ, MVC, MySQL, and Terraform.\n"
          ]
        }
      ]
    },
    {
      "cell_type": "code",
      "source": [
        "reply(\"How many programming languages did you find in the context, provide me with the lists of the languages.Give them in bullet points\")"
      ],
      "metadata": {
        "colab": {
          "base_uri": "https://localhost:8080/"
        },
        "id": "G7JSo2K3X6dx",
        "outputId": "b174ba69-c9bf-4b03-bfc0-aaa1d396f15d"
      },
      "execution_count": 129,
      "outputs": [
        {
          "output_type": "stream",
          "name": "stdout",
          "text": [
            "I found 18 programming languages in the context. Here is a list of them:\n",
            "\n",
            "*   C\n",
            "*   C++\n",
            "*   Java\n",
            "*   PL/SQL\n",
            "*   HTML\n",
            "*   PHP\n",
            "*   MySQL\n",
            "*   JavaScript\n",
            "*   CSS\n",
            "*   Python\n",
            "*   Shell Scripts\n",
            "*   NLTK\n",
            "*   Django\n",
            "*   Pandas\n",
            "*   .NET\n",
            "*   LINQ\n",
            "*   MVC\n",
            "*   PySpark\n",
            "*   PyTorch\n"
          ]
        }
      ]
    },
    {
      "cell_type": "code",
      "source": [
        "# search_Web = vectordb.similarity_search(\"how often the term 'Web' is mentioned\", k=3)\n",
        "search_Web"
      ],
      "metadata": {
        "colab": {
          "base_uri": "https://localhost:8080/"
        },
        "id": "uO5kpcuSOoES",
        "outputId": "651f748e-1e61-4802-a9d9-7d468e16abab"
      },
      "execution_count": 105,
      "outputs": [
        {
          "output_type": "execute_result",
          "data": {
            "text/plain": [
              "[Document(metadata={'creationdate': '2024-06-10T16:37:00+05:45', 'page': 2, 'page_label': '3', 'title': 'Anish Chapagain:CV', 'creator': 'Microsoft® Word 2016', 'author': 'PETERCHAPAGAIN', 'moddate': '2024-06-10T16:37:00+05:45', 'source': 'CV_AnishChapagain_2024.pdf', 'producer': 'Microsoft® Word 2016', 'total_pages': 4}, page_content='2nd Edition”. ISBN: 9781837636211, Oct-2023.  \\n● “Hands-On Web Scraping with Python”. ISBN: 9781789533392, Jul-2019. \\n \\n \\nEducation     \\nM.Sc Computer System (2007-2008), Bangor University, Wales (U.K)  \\n● Learning/Development using Java and Python (AI, Text Mining, Web Mining, NLP, Web Scraping). PHP/ \\nJavaScript/ MySQL for Web development.   \\n● Dissertation: Development of  Text Mining Toolkit ‘TUI’, a GUI application in Python handling Text Mining \\nframework (TMT) in C, by Dr. WJ Teahan. \\n● Development of Personal profiling system ‘webwiki’ using Python (Web Scraping techniques, Wikipedia).  \\n  \\nExecutive-MBA (HRM) (2004-2006), Himalayan Whitehouse Int’l College, Ktm, Nepal.  \\n● Specialization in Human Resource Management, Thesis submitted “Human Resource Information System”.  \\n● Subjects: Accounting, Organization Behavior, Research Methodology, TQM, HRM, Economics etc.  \\n  \\nB.Sc. Computer Science (1999-2002), Campion College, Kupondole, Lalitpur, Nepal.'),\n",
              " Document(metadata={'creator': 'Microsoft® Word 2016', 'title': 'Anish Chapagain:CV', 'author': 'PETERCHAPAGAIN', 'page_label': '3', 'source': 'CV_AnishChapagain_2024.pdf', 'producer': 'Microsoft® Word 2016', 'moddate': '2024-06-10T16:37:00+05:45', 'total_pages': 4, 'creationdate': '2024-06-10T16:37:00+05:45', 'page': 2}, page_content='●  Lecturing in Programming Languages (C, C++, Java), Basic Hardware and Networking.  \\n  \\nHimalayan Institute of Technology. New Baneshwor, Kathmandu, Nepal.   \\nIT Instructor/Programmer                                                                                          17th Nov, 2002 – 8th Oct, 2007  \\n● Project instructor for Oracle with Developer & PL/SQL, Ministry of General Admin (Nijamati Sansthan)   \\n●  Software Development in C, C++, Borland C++ Builder, Java, Oracle with Developer.  \\n● Website Designing HTML, PHP with MySQL, JavaScript, CSS, Apache and Linux.  \\n● Instructing MS-DOS, Microsoft Office, Adobe Photoshop, Oracle, MySQL, PL/SQL, C, C++, Java, HTML.  \\n \\n \\nPublications \\nBook Writer (Contract Author). Packt Publishing. UK, India. https://www.packtpub.com/ \\n● “Hands-On Web Scraping with Python: Extract quality data from the web using effective Python techniques, \\n2nd Edition”. ISBN: 9781837636211, Oct-2023.'),\n",
              " Document(metadata={'author': 'PETERCHAPAGAIN', 'page_label': '1', 'creator': 'Microsoft® Word 2016', 'title': 'Anish Chapagain:CV', 'creationdate': '2024-06-10T16:37:00+05:45', 'page': 0, 'moddate': '2024-06-10T16:37:00+05:45', 'total_pages': 4, 'producer': 'Microsoft® Word 2016', 'source': 'CV_AnishChapagain_2024.pdf'}, page_content='\\uf0b7 Building applications for data collection, text summarization, translation, and paraphrasing. \\n\\uf0b7 Projects related to LLM integration, sentiment analysis, and summarization.  \\n\\uf0b7 Web data comparing, Data processing, testing, developing ML models from client’s data. \\n\\uf0b7 Projects related to SEO, data security, report automation, penetration testing. \\n\\uf0b7 Studying, Reporting anti-bot cases, captchas prediction, frequencies (w/o) proxies. \\n\\uf0b7 Providing training on web-penetration, NLP, NLTK, Scikit-learn, PySpark, PyTorch, Django, Pandas. \\n\\uf0b7 Projects related to scraping and ML, Code reviews & testing. \\n \\nLogpoint. Jawalakhel, Lalitpur.  \\nSr. Software Engineer - Python                                             23rd Feb, 2023 – 30st May, 2024   \\n\\uf0b7 Python, MongoDB, JIRA, Terraform, Shell Scripts, Docker, Jenkins. \\n\\uf0b7 Development/Testing SIEM, UEBA, and SOAR to SAP security. \\n\\uf0b7 Developing software solutions: consulting users, systems flow, data usage, and work processes.')]"
            ]
          },
          "metadata": {},
          "execution_count": 105
        }
      ]
    },
    {
      "cell_type": "code",
      "source": [
        "search_mmr = vectordb.max_marginal_relevance_search(\"How many programming languages did you find in the context\",k=3)\n",
        "search_mmr"
      ],
      "metadata": {
        "colab": {
          "base_uri": "https://localhost:8080/"
        },
        "id": "epSUt8w1Sd9L",
        "outputId": "327fa2a3-ecc9-4bfa-b52d-317d1478f901"
      },
      "execution_count": 119,
      "outputs": [
        {
          "output_type": "execute_result",
          "data": {
            "text/plain": [
              "[Document(metadata={'author': 'PETERCHAPAGAIN', 'producer': 'Microsoft® Word 2016', 'moddate': '2024-06-10T16:37:00+05:45', 'page': 0, 'total_pages': 4, 'page_label': '1', 'title': 'Anish Chapagain:CV', 'creator': 'Microsoft® Word 2016', 'creationdate': '2024-06-10T16:37:00+05:45', 'source': 'CV_AnishChapagain_2024.pdf'}, page_content='\\uf0b7 Data & Text Analysis, Regular Expressions, Analysis/Visualization, Reporting, Shell Scripting. \\n\\uf0b7 Integrating LLMs into application using APIs. Using Hugging Face Transformers for NLP tasks. \\n\\uf0b7 Experience using cloud platforms: GCP, AWS.  \\n\\uf0b7 Experienced with DBMS: Oracle, MySQL, MSSQL, MongoDB, and SQL Querying. \\n\\uf0b7 Experienced using Project Management applications BaseCamp, Blossom. Atlassian JIRA. \\n\\uf0b7 Proficiency in SDLC, Technical writing/support, Documentation and delivering presentations & articles.  \\n \\nProfessional Experiences  \\nProfessional Freelancer.                              \\nFreelance (Part-Time)                                                       1st Apr, 2009 – till date.  \\n\\uf0b7 Data extraction, automation, classifying, pattern recognition, analyzing, conducting EDA, prediction. \\n\\uf0b7 Track & Trace, Ecommerce: reviews, analysis, comparison, scheduling scrapper and reports. \\n\\uf0b7 Building applications for data collection, text summarization, translation, and paraphrasing.'),\n",
              " Document(metadata={'creationdate': '2024-06-10T16:37:00+05:45', 'page': 2, 'page_label': '3', 'author': 'PETERCHAPAGAIN', 'creator': 'Microsoft® Word 2016', 'source': 'CV_AnishChapagain_2024.pdf', 'total_pages': 4, 'moddate': '2024-06-10T16:37:00+05:45', 'producer': 'Microsoft® Word 2016', 'title': 'Anish Chapagain:CV'}, page_content='●  Lecturing in Programming Languages (C, C++, Java), Basic Hardware and Networking.  \\n  \\nHimalayan Institute of Technology. New Baneshwor, Kathmandu, Nepal.   \\nIT Instructor/Programmer                                                                                          17th Nov, 2002 – 8th Oct, 2007  \\n● Project instructor for Oracle with Developer & PL/SQL, Ministry of General Admin (Nijamati Sansthan)   \\n●  Software Development in C, C++, Borland C++ Builder, Java, Oracle with Developer.  \\n● Website Designing HTML, PHP with MySQL, JavaScript, CSS, Apache and Linux.  \\n● Instructing MS-DOS, Microsoft Office, Adobe Photoshop, Oracle, MySQL, PL/SQL, C, C++, Java, HTML.  \\n \\n \\nPublications \\nBook Writer (Contract Author). Packt Publishing. UK, India. https://www.packtpub.com/ \\n● “Hands-On Web Scraping with Python: Extract quality data from the web using effective Python techniques, \\n2nd Edition”. ISBN: 9781837636211, Oct-2023.'),\n",
              " Document(metadata={'producer': 'Microsoft® Word 2016', 'creationdate': '2024-06-10T16:37:00+05:45', 'creator': 'Microsoft® Word 2016', 'page': 2, 'moddate': '2024-06-10T16:37:00+05:45', 'title': 'Anish Chapagain:CV', 'author': 'PETERCHAPAGAIN', 'total_pages': 4, 'source': 'CV_AnishChapagain_2024.pdf', 'page_label': '3'}, page_content='B.Sc. Computer Science (1999-2002), Campion College, Kupondole, Lalitpur, Nepal.  \\n●  Obtained distinct grade in Core Java Programming.  \\n● Major Project: Media Player using Borland C++ Builder. 2002 (B.Sc. Computer Science).')]"
            ]
          },
          "metadata": {},
          "execution_count": 119
        }
      ]
    },
    {
      "cell_type": "code",
      "source": [
        "def get_content(search_mmr):\n",
        "  for doc in search_mmr:\n",
        "      print(doc.page_content)\n",
        "      print(f\"----\" *20)"
      ],
      "metadata": {
        "id": "yU-QOMqCTJp9"
      },
      "execution_count": 121,
      "outputs": []
    },
    {
      "cell_type": "code",
      "source": [
        "get_content(search_mmr)"
      ],
      "metadata": {
        "colab": {
          "base_uri": "https://localhost:8080/"
        },
        "id": "6EyNEBcBWmna",
        "outputId": "c514929a-3892-4a6d-fe04-72acd75a1f2a"
      },
      "execution_count": 122,
      "outputs": [
        {
          "output_type": "stream",
          "name": "stdout",
          "text": [
            " Data & Text Analysis, Regular Expressions, Analysis/Visualization, Reporting, Shell Scripting. \n",
            " Integrating LLMs into application using APIs. Using Hugging Face Transformers for NLP tasks. \n",
            " Experience using cloud platforms: GCP, AWS.  \n",
            " Experienced with DBMS: Oracle, MySQL, MSSQL, MongoDB, and SQL Querying. \n",
            " Experienced using Project Management applications BaseCamp, Blossom. Atlassian JIRA. \n",
            " Proficiency in SDLC, Technical writing/support, Documentation and delivering presentations & articles.  \n",
            " \n",
            "Professional Experiences  \n",
            "Professional Freelancer.                              \n",
            "Freelance (Part-Time)                                                       1st Apr, 2009 – till date.  \n",
            " Data extraction, automation, classifying, pattern recognition, analyzing, conducting EDA, prediction. \n",
            " Track & Trace, Ecommerce: reviews, analysis, comparison, scheduling scrapper and reports. \n",
            " Building applications for data collection, text summarization, translation, and paraphrasing.\n",
            "--------------------------------------------------------------------------------\n",
            "●  Lecturing in Programming Languages (C, C++, Java), Basic Hardware and Networking.  \n",
            "  \n",
            "Himalayan Institute of Technology. New Baneshwor, Kathmandu, Nepal.   \n",
            "IT Instructor/Programmer                                                                                          17th Nov, 2002 – 8th Oct, 2007  \n",
            "● Project instructor for Oracle with Developer & PL/SQL, Ministry of General Admin (Nijamati Sansthan)   \n",
            "●  Software Development in C, C++, Borland C++ Builder, Java, Oracle with Developer.  \n",
            "● Website Designing HTML, PHP with MySQL, JavaScript, CSS, Apache and Linux.  \n",
            "● Instructing MS-DOS, Microsoft Office, Adobe Photoshop, Oracle, MySQL, PL/SQL, C, C++, Java, HTML.  \n",
            " \n",
            " \n",
            "Publications \n",
            "Book Writer (Contract Author). Packt Publishing. UK, India. https://www.packtpub.com/ \n",
            "● “Hands-On Web Scraping with Python: Extract quality data from the web using effective Python techniques, \n",
            "2nd Edition”. ISBN: 9781837636211, Oct-2023.\n",
            "--------------------------------------------------------------------------------\n",
            "B.Sc. Computer Science (1999-2002), Campion College, Kupondole, Lalitpur, Nepal.  \n",
            "●  Obtained distinct grade in Core Java Programming.  \n",
            "● Major Project: Media Player using Borland C++ Builder. 2002 (B.Sc. Computer Science).\n",
            "--------------------------------------------------------------------------------\n"
          ]
        }
      ]
    },
    {
      "cell_type": "code",
      "source": [],
      "metadata": {
        "id": "VeacWvCXWtqv"
      },
      "execution_count": null,
      "outputs": []
    }
  ]
}