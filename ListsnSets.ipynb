{
  "nbformat": 4,
  "nbformat_minor": 0,
  "metadata": {
    "colab": {
      "provenance": [],
      "authorship_tag": "ABX9TyNH0cZdZz28zEGF6/R3xRD8",
      "include_colab_link": true
    },
    "kernelspec": {
      "name": "python3",
      "display_name": "Python 3"
    },
    "language_info": {
      "name": "python"
    }
  },
  "cells": [
    {
      "cell_type": "markdown",
      "metadata": {
        "id": "view-in-github",
        "colab_type": "text"
      },
      "source": [
        "<a href=\"https://colab.research.google.com/github/kabirNahata/Learning-journey/blob/main/ListsnSets.ipynb\" target=\"_parent\"><img src=\"https://colab.research.google.com/assets/colab-badge.svg\" alt=\"Open In Colab\"/></a>"
      ]
    },
    {
      "cell_type": "code",
      "execution_count": null,
      "metadata": {
        "id": "uJsT4FHdMJTF"
      },
      "outputs": [],
      "source": [
        "fruits = []"
      ]
    },
    {
      "cell_type": "code",
      "source": [
        "fruits.append(\"apple\")\n",
        "fruits.append(\"Apple\")\n"
      ],
      "metadata": {
        "id": "HSJ61unAMnHV"
      },
      "execution_count": null,
      "outputs": []
    },
    {
      "cell_type": "code",
      "source": [
        "fruits"
      ],
      "metadata": {
        "colab": {
          "base_uri": "https://localhost:8080/"
        },
        "id": "qOj3pFnONMDp",
        "outputId": "c0db9d4b-7bd2-4e50-ae95-70ed9e831f91"
      },
      "execution_count": null,
      "outputs": [
        {
          "output_type": "execute_result",
          "data": {
            "text/plain": [
              "['apple', 'Apple']"
            ]
          },
          "metadata": {},
          "execution_count": 3
        }
      ]
    },
    {
      "cell_type": "code",
      "source": [
        "fruits.insert(1,\"Banana\")"
      ],
      "metadata": {
        "id": "kj4vAX--NQFz"
      },
      "execution_count": null,
      "outputs": []
    },
    {
      "cell_type": "code",
      "source": [
        "fruits"
      ],
      "metadata": {
        "colab": {
          "base_uri": "https://localhost:8080/"
        },
        "id": "05okUDqqNhNq",
        "outputId": "2fc307aa-9973-4bce-cfb9-90639b806349"
      },
      "execution_count": null,
      "outputs": [
        {
          "output_type": "execute_result",
          "data": {
            "text/plain": [
              "['apple', 'Banana', 'Apple']"
            ]
          },
          "metadata": {},
          "execution_count": 6
        }
      ]
    },
    {
      "cell_type": "code",
      "source": [
        "fruits.insert(0,\"Pineapple\")"
      ],
      "metadata": {
        "id": "fkaOcge8NoEd"
      },
      "execution_count": null,
      "outputs": []
    },
    {
      "cell_type": "code",
      "source": [
        "fruits"
      ],
      "metadata": {
        "colab": {
          "base_uri": "https://localhost:8080/"
        },
        "id": "LpvL05tZNzR0",
        "outputId": "f2ae9b71-4542-4310-afef-3645baa9d50d"
      },
      "execution_count": null,
      "outputs": [
        {
          "output_type": "execute_result",
          "data": {
            "text/plain": [
              "['Pineapple', 'apple', 'Banana', 'Apple']"
            ]
          },
          "metadata": {},
          "execution_count": 8
        }
      ]
    },
    {
      "cell_type": "code",
      "source": [
        "fruits.pop(1,\"app\")"
      ],
      "metadata": {
        "colab": {
          "base_uri": "https://localhost:8080/",
          "height": 141
        },
        "id": "xXoznsNIN0aj",
        "outputId": "6f5dde77-8219-485b-c479-4c131bda4cb8"
      },
      "execution_count": null,
      "outputs": [
        {
          "output_type": "error",
          "ename": "TypeError",
          "evalue": "pop expected at most 1 argument, got 2",
          "traceback": [
            "\u001b[0;31m---------------------------------------------------------------------------\u001b[0m",
            "\u001b[0;31mTypeError\u001b[0m                                 Traceback (most recent call last)",
            "\u001b[0;32m<ipython-input-9-8b714482ef76>\u001b[0m in \u001b[0;36m<cell line: 0>\u001b[0;34m()\u001b[0m\n\u001b[0;32m----> 1\u001b[0;31m \u001b[0mfruits\u001b[0m\u001b[0;34m.\u001b[0m\u001b[0mpop\u001b[0m\u001b[0;34m(\u001b[0m\u001b[0;36m1\u001b[0m\u001b[0;34m,\u001b[0m\u001b[0;34m\"app\"\u001b[0m\u001b[0;34m)\u001b[0m\u001b[0;34m\u001b[0m\u001b[0;34m\u001b[0m\u001b[0m\n\u001b[0m",
            "\u001b[0;31mTypeError\u001b[0m: pop expected at most 1 argument, got 2"
          ]
        }
      ]
    },
    {
      "cell_type": "code",
      "source": [
        "fruits.pop(1)"
      ],
      "metadata": {
        "colab": {
          "base_uri": "https://localhost:8080/",
          "height": 36
        },
        "id": "9cJcsvR2OLYc",
        "outputId": "0267a559-82bf-4c10-9996-10b9ea7d5e85"
      },
      "execution_count": null,
      "outputs": [
        {
          "output_type": "execute_result",
          "data": {
            "text/plain": [
              "'apple'"
            ],
            "application/vnd.google.colaboratory.intrinsic+json": {
              "type": "string"
            }
          },
          "metadata": {},
          "execution_count": 10
        }
      ]
    },
    {
      "cell_type": "code",
      "source": [
        "fruits.remove(\"Pineapple\")"
      ],
      "metadata": {
        "id": "3U7J1uQVOPCA"
      },
      "execution_count": null,
      "outputs": []
    },
    {
      "cell_type": "code",
      "source": [
        "fruits"
      ],
      "metadata": {
        "colab": {
          "base_uri": "https://localhost:8080/"
        },
        "id": "2UXwiE0rOhgq",
        "outputId": "d88329a4-4423-48d3-fa63-89af70c7dbbc"
      },
      "execution_count": null,
      "outputs": [
        {
          "output_type": "execute_result",
          "data": {
            "text/plain": [
              "['Banana', 'Apple']"
            ]
          },
          "metadata": {},
          "execution_count": 13
        }
      ]
    },
    {
      "cell_type": "code",
      "source": [
        "fruits.append(\"melon\")\n"
      ],
      "metadata": {
        "id": "3nC3_ECZOo9D"
      },
      "execution_count": null,
      "outputs": []
    },
    {
      "cell_type": "code",
      "source": [
        "fruits"
      ],
      "metadata": {
        "colab": {
          "base_uri": "https://localhost:8080/"
        },
        "id": "Xf628SL1O_T6",
        "outputId": "484676ed-f914-4a88-bffc-224cba830b71"
      },
      "execution_count": null,
      "outputs": [
        {
          "output_type": "execute_result",
          "data": {
            "text/plain": [
              "['Banana', 'Apple', 'melon']"
            ]
          },
          "metadata": {},
          "execution_count": 16
        }
      ]
    },
    {
      "cell_type": "code",
      "source": [
        "fruits[1]"
      ],
      "metadata": {
        "colab": {
          "base_uri": "https://localhost:8080/",
          "height": 36
        },
        "id": "SthSw75uPHHO",
        "outputId": "aa3ef44b-c658-41e3-f255-29a36a3953e1"
      },
      "execution_count": null,
      "outputs": [
        {
          "output_type": "execute_result",
          "data": {
            "text/plain": [
              "'Apple'"
            ],
            "application/vnd.google.colaboratory.intrinsic+json": {
              "type": "string"
            }
          },
          "metadata": {},
          "execution_count": 18
        }
      ]
    },
    {
      "cell_type": "code",
      "source": [
        "fruits[0]"
      ],
      "metadata": {
        "colab": {
          "base_uri": "https://localhost:8080/",
          "height": 36
        },
        "id": "uVlHP9wjPUa2",
        "outputId": "168c77d8-ac03-4ee9-ef96-8229fb27d293"
      },
      "execution_count": null,
      "outputs": [
        {
          "output_type": "execute_result",
          "data": {
            "text/plain": [
              "'Banana'"
            ],
            "application/vnd.google.colaboratory.intrinsic+json": {
              "type": "string"
            }
          },
          "metadata": {},
          "execution_count": 20
        }
      ]
    },
    {
      "cell_type": "code",
      "source": [
        "fruits[0].replace(\"a\",\"A\")"
      ],
      "metadata": {
        "colab": {
          "base_uri": "https://localhost:8080/",
          "height": 36
        },
        "id": "cURwnS8wPo3j",
        "outputId": "492689c7-2d90-4636-e5ee-76aef40d043e"
      },
      "execution_count": null,
      "outputs": [
        {
          "output_type": "execute_result",
          "data": {
            "text/plain": [
              "'BAnAnA'"
            ],
            "application/vnd.google.colaboratory.intrinsic+json": {
              "type": "string"
            }
          },
          "metadata": {},
          "execution_count": 21
        }
      ]
    },
    {
      "cell_type": "code",
      "source": [
        "fruits"
      ],
      "metadata": {
        "colab": {
          "base_uri": "https://localhost:8080/"
        },
        "id": "jLtBBK7EP1LW",
        "outputId": "b6131ca6-7bba-4866-8898-8d668a4ebe60"
      },
      "execution_count": null,
      "outputs": [
        {
          "output_type": "execute_result",
          "data": {
            "text/plain": [
              "['Banana', 'Apple', 'melon']"
            ]
          },
          "metadata": {},
          "execution_count": 22
        }
      ]
    },
    {
      "cell_type": "code",
      "source": [
        "fruits[0] = \"Pineapple\""
      ],
      "metadata": {
        "id": "Et6bX2AjP3gi"
      },
      "execution_count": null,
      "outputs": []
    },
    {
      "cell_type": "code",
      "source": [
        "fruits"
      ],
      "metadata": {
        "colab": {
          "base_uri": "https://localhost:8080/"
        },
        "id": "aSoKYdJEQCVu",
        "outputId": "cde42c3c-a887-4adb-867f-2a680a7e8c6b"
      },
      "execution_count": null,
      "outputs": [
        {
          "output_type": "execute_result",
          "data": {
            "text/plain": [
              "['Pineapple', 'Apple', 'melon']"
            ]
          },
          "metadata": {},
          "execution_count": 24
        }
      ]
    },
    {
      "cell_type": "code",
      "source": [
        "fruits.remove(\"Apple\")"
      ],
      "metadata": {
        "id": "soqNXtpDQDeV"
      },
      "execution_count": null,
      "outputs": []
    },
    {
      "cell_type": "code",
      "source": [
        "fruits"
      ],
      "metadata": {
        "colab": {
          "base_uri": "https://localhost:8080/"
        },
        "id": "bjtjtELFQLpc",
        "outputId": "2764c345-8f77-4994-f898-c9085922ab65"
      },
      "execution_count": null,
      "outputs": [
        {
          "output_type": "execute_result",
          "data": {
            "text/plain": [
              "['Pineapple', 'melon']"
            ]
          },
          "metadata": {},
          "execution_count": 28
        }
      ]
    },
    {
      "cell_type": "code",
      "source": [
        "fruits[1] = (\"Watermelon\")"
      ],
      "metadata": {
        "id": "zPOl6oZsQhNQ"
      },
      "execution_count": null,
      "outputs": []
    },
    {
      "cell_type": "code",
      "source": [
        "fruits"
      ],
      "metadata": {
        "colab": {
          "base_uri": "https://localhost:8080/"
        },
        "id": "HzUErsVPQo5p",
        "outputId": "2be88310-6667-43a7-e040-9e27a5387a6a"
      },
      "execution_count": null,
      "outputs": [
        {
          "output_type": "execute_result",
          "data": {
            "text/plain": [
              "['Pineapple', 'Watermelon']"
            ]
          },
          "metadata": {},
          "execution_count": 30
        }
      ]
    },
    {
      "cell_type": "code",
      "source": [
        "fruits[1]"
      ],
      "metadata": {
        "colab": {
          "base_uri": "https://localhost:8080/",
          "height": 36
        },
        "id": "RDWPvLnAQqKn",
        "outputId": "2cbbcc34-4419-4b8b-c319-e601b5af33a7"
      },
      "execution_count": null,
      "outputs": [
        {
          "output_type": "execute_result",
          "data": {
            "text/plain": [
              "'Watermelon'"
            ],
            "application/vnd.google.colaboratory.intrinsic+json": {
              "type": "string"
            }
          },
          "metadata": {},
          "execution_count": 31
        }
      ]
    },
    {
      "cell_type": "code",
      "source": [
        "# prompt: display watermelon stored in the list without using its index\n",
        "\n",
        "fruits = []\n",
        "fruits.append(\"apple\")\n",
        "fruits.append(\"Apple\")\n",
        "\n",
        "fruits\n",
        "fruits.insert(1,\"Banana\")\n",
        "fruits\n",
        "fruits.insert(0,\"Pineapple\")\n",
        "fruits\n",
        "fruits.pop(1,\"app\")\n",
        "fruits.pop(1)\n",
        "fruits.remove(\"Pineapple\")\n",
        "fruits\n",
        "fruits.append(\"melon\")\n",
        "\n",
        "fruits\n",
        "fruits[1]\n",
        "fruits[0]\n",
        "fruits[0].replace(\"a\",\"A\")\n",
        "fruits\n",
        "fruits[0] = \"Pineapple\"\n",
        "fruits\n",
        "fruits.remove(\"Apple\")\n",
        "fruits\n",
        "fruits[1] = (\"Watermelon\")\n",
        "fruits\n",
        "\n",
        "for fruit in fruits:\n",
        "  if fruit == \"Watermelon\":\n",
        "fruit\n"
      ],
      "metadata": {
        "colab": {
          "base_uri": "https://localhost:8080/",
          "height": 106
        },
        "id": "mN133HWjQ0y7",
        "outputId": "344337ce-454e-4c66-d995-4b884f467869"
      },
      "execution_count": null,
      "outputs": [
        {
          "output_type": "error",
          "ename": "IndentationError",
          "evalue": "expected an indented block after 'if' statement on line 31 (<ipython-input-33-2bb12f1b6f6e>, line 32)",
          "traceback": [
            "\u001b[0;36m  File \u001b[0;32m\"<ipython-input-33-2bb12f1b6f6e>\"\u001b[0;36m, line \u001b[0;32m32\u001b[0m\n\u001b[0;31m    fruit\u001b[0m\n\u001b[0m         ^\u001b[0m\n\u001b[0;31mIndentationError\u001b[0m\u001b[0;31m:\u001b[0m expected an indented block after 'if' statement on line 31\n"
          ]
        }
      ]
    },
    {
      "cell_type": "code",
      "source": [
        "fruits.index(\"Watermelon\")"
      ],
      "metadata": {
        "colab": {
          "base_uri": "https://localhost:8080/"
        },
        "id": "zKHlkxpmSNG6",
        "outputId": "1fca5db3-f3ed-4086-ddc7-4f595e154416"
      },
      "execution_count": null,
      "outputs": [
        {
          "output_type": "execute_result",
          "data": {
            "text/plain": [
              "1"
            ]
          },
          "metadata": {},
          "execution_count": 35
        }
      ]
    },
    {
      "cell_type": "code",
      "source": [
        "fruits.count(\"Watermelon\")"
      ],
      "metadata": {
        "colab": {
          "base_uri": "https://localhost:8080/"
        },
        "id": "CiyJk93uSTkx",
        "outputId": "90cc088d-4750-44b7-b4e0-97ff8c7459a2"
      },
      "execution_count": null,
      "outputs": [
        {
          "output_type": "execute_result",
          "data": {
            "text/plain": [
              "1"
            ]
          },
          "metadata": {},
          "execution_count": 37
        }
      ]
    },
    {
      "cell_type": "code",
      "source": [
        "fruits.extend(\"Watermelon\")"
      ],
      "metadata": {
        "id": "lQsJgBACSaOq"
      },
      "execution_count": null,
      "outputs": []
    },
    {
      "cell_type": "code",
      "source": [
        "fruits"
      ],
      "metadata": {
        "colab": {
          "base_uri": "https://localhost:8080/"
        },
        "id": "XVqzTIVRS8fs",
        "outputId": "efdfad30-b97a-48b5-d215-dea6a092deff"
      },
      "execution_count": null,
      "outputs": [
        {
          "output_type": "execute_result",
          "data": {
            "text/plain": [
              "['Pineapple', 'Watermelon', 'W', 'a', 't', 'e', 'r', 'm', 'e', 'l', 'o', 'n']"
            ]
          },
          "metadata": {},
          "execution_count": 39
        }
      ]
    },
    {
      "cell_type": "code",
      "source": [
        "fruits.insert(1,\"Watermelon\")"
      ],
      "metadata": {
        "id": "9_cHUNwHS9P1"
      },
      "execution_count": null,
      "outputs": []
    },
    {
      "cell_type": "code",
      "source": [
        "fruits"
      ],
      "metadata": {
        "colab": {
          "base_uri": "https://localhost:8080/"
        },
        "id": "O90pnNQbTHHN",
        "outputId": "dc8d0004-c09d-419b-e26a-cdef27276401"
      },
      "execution_count": null,
      "outputs": [
        {
          "output_type": "execute_result",
          "data": {
            "text/plain": [
              "['Pineapple',\n",
              " 'Watermelon',\n",
              " 'Watermelon',\n",
              " 'W',\n",
              " 'a',\n",
              " 't',\n",
              " 'e',\n",
              " 'r',\n",
              " 'm',\n",
              " 'e',\n",
              " 'l',\n",
              " 'o',\n",
              " 'n']"
            ]
          },
          "metadata": {},
          "execution_count": 41
        }
      ]
    },
    {
      "cell_type": "code",
      "source": [
        "fruits[-1]"
      ],
      "metadata": {
        "colab": {
          "base_uri": "https://localhost:8080/",
          "height": 36
        },
        "id": "VRccQtr7TbON",
        "outputId": "49ad7b91-a192-4cc4-ddd3-ab109ba652cc"
      },
      "execution_count": null,
      "outputs": [
        {
          "output_type": "execute_result",
          "data": {
            "text/plain": [
              "'n'"
            ],
            "application/vnd.google.colaboratory.intrinsic+json": {
              "type": "string"
            }
          },
          "metadata": {},
          "execution_count": 43
        }
      ]
    },
    {
      "cell_type": "code",
      "source": [
        "len(fruits)"
      ],
      "metadata": {
        "colab": {
          "base_uri": "https://localhost:8080/"
        },
        "id": "5uKi3f2_T3Nb",
        "outputId": "2d65e65e-2407-4aa3-9586-b0d0218772a0"
      },
      "execution_count": null,
      "outputs": [
        {
          "output_type": "execute_result",
          "data": {
            "text/plain": [
              "13"
            ]
          },
          "metadata": {},
          "execution_count": 44
        }
      ]
    },
    {
      "cell_type": "code",
      "source": [
        "fruits[-12]"
      ],
      "metadata": {
        "colab": {
          "base_uri": "https://localhost:8080/",
          "height": 36
        },
        "id": "9fagZzYcT-mS",
        "outputId": "8917f93e-d19a-4c8c-a27a-d18ac01828e3"
      },
      "execution_count": null,
      "outputs": [
        {
          "output_type": "execute_result",
          "data": {
            "text/plain": [
              "'Watermelon'"
            ],
            "application/vnd.google.colaboratory.intrinsic+json": {
              "type": "string"
            }
          },
          "metadata": {},
          "execution_count": 45
        }
      ]
    },
    {
      "cell_type": "code",
      "source": [
        "fruits[-13]"
      ],
      "metadata": {
        "colab": {
          "base_uri": "https://localhost:8080/",
          "height": 36
        },
        "id": "w_Q-naJkUFGc",
        "outputId": "8bfeb2cf-d76e-4d9d-bd74-1ade1574de22"
      },
      "execution_count": null,
      "outputs": [
        {
          "output_type": "execute_result",
          "data": {
            "text/plain": [
              "'Pineapple'"
            ],
            "application/vnd.google.colaboratory.intrinsic+json": {
              "type": "string"
            }
          },
          "metadata": {},
          "execution_count": 46
        }
      ]
    },
    {
      "cell_type": "code",
      "source": [
        "fruits[0:3]"
      ],
      "metadata": {
        "colab": {
          "base_uri": "https://localhost:8080/"
        },
        "id": "_WTjvJ-KUICo",
        "outputId": "5b6e0262-bdfd-4845-a6c3-57046bbedfc5"
      },
      "execution_count": null,
      "outputs": [
        {
          "output_type": "execute_result",
          "data": {
            "text/plain": [
              "['Pineapple', 'Watermelon', 'Watermelon']"
            ]
          },
          "metadata": {},
          "execution_count": 51
        }
      ]
    },
    {
      "cell_type": "code",
      "source": [
        "fruits[-13]"
      ],
      "metadata": {
        "colab": {
          "base_uri": "https://localhost:8080/",
          "height": 36
        },
        "id": "Ayd1EFF5USEh",
        "outputId": "56817c57-fad6-4ff1-ce43-1b51e532d3b1"
      },
      "execution_count": null,
      "outputs": [
        {
          "output_type": "execute_result",
          "data": {
            "text/plain": [
              "'Pineapple'"
            ],
            "application/vnd.google.colaboratory.intrinsic+json": {
              "type": "string"
            }
          },
          "metadata": {},
          "execution_count": 52
        }
      ]
    },
    {
      "cell_type": "code",
      "source": [
        "fruits[-13:]"
      ],
      "metadata": {
        "colab": {
          "base_uri": "https://localhost:8080/"
        },
        "id": "DerButCuUlx9",
        "outputId": "9b1935b7-d4c9-4db5-9dfe-950706e47180"
      },
      "execution_count": null,
      "outputs": [
        {
          "output_type": "execute_result",
          "data": {
            "text/plain": [
              "['Pineapple',\n",
              " 'Watermelon',\n",
              " 'Watermelon',\n",
              " 'W',\n",
              " 'a',\n",
              " 't',\n",
              " 'e',\n",
              " 'r',\n",
              " 'm',\n",
              " 'e',\n",
              " 'l',\n",
              " 'o',\n",
              " 'n']"
            ]
          },
          "metadata": {},
          "execution_count": 53
        }
      ]
    },
    {
      "cell_type": "code",
      "source": [
        "fruits"
      ],
      "metadata": {
        "colab": {
          "base_uri": "https://localhost:8080/"
        },
        "id": "De22DVY7Uoo9",
        "outputId": "84f9f4ed-e6d9-4dd2-ea60-b361acff6635"
      },
      "execution_count": null,
      "outputs": [
        {
          "output_type": "execute_result",
          "data": {
            "text/plain": [
              "['Pineapple',\n",
              " 'Watermelon',\n",
              " 'Watermelon',\n",
              " 'W',\n",
              " 'a',\n",
              " 't',\n",
              " 'e',\n",
              " 'r',\n",
              " 'm',\n",
              " 'e',\n",
              " 'l',\n",
              " 'o',\n",
              " 'n']"
            ]
          },
          "metadata": {},
          "execution_count": 54
        }
      ]
    },
    {
      "cell_type": "code",
      "source": [
        "fruits[0:]"
      ],
      "metadata": {
        "colab": {
          "base_uri": "https://localhost:8080/"
        },
        "id": "3TOlxorWUtLC",
        "outputId": "5e9d0ad4-15f3-49d7-f7e1-278d5554d8e9"
      },
      "execution_count": null,
      "outputs": [
        {
          "output_type": "execute_result",
          "data": {
            "text/plain": [
              "['Pineapple',\n",
              " 'Watermelon',\n",
              " 'Watermelon',\n",
              " 'W',\n",
              " 'a',\n",
              " 't',\n",
              " 'e',\n",
              " 'r',\n",
              " 'm',\n",
              " 'e',\n",
              " 'l',\n",
              " 'o',\n",
              " 'n']"
            ]
          },
          "metadata": {},
          "execution_count": 58
        }
      ]
    },
    {
      "cell_type": "code",
      "source": [
        "fruits[0::2]"
      ],
      "metadata": {
        "colab": {
          "base_uri": "https://localhost:8080/"
        },
        "id": "V59U3IYPU1-i",
        "outputId": "f077d963-3d15-4f32-b941-a3bcb6be24cb"
      },
      "execution_count": null,
      "outputs": [
        {
          "output_type": "execute_result",
          "data": {
            "text/plain": [
              "['Pineapple', 'Watermelon', 'a', 'e', 'm', 'l', 'n']"
            ]
          },
          "metadata": {},
          "execution_count": 63
        }
      ]
    },
    {
      "cell_type": "code",
      "source": [
        "fruits[0],fruits[3]"
      ],
      "metadata": {
        "colab": {
          "base_uri": "https://localhost:8080/"
        },
        "id": "DFE2q_KsVcXJ",
        "outputId": "e3b5779e-a02b-4773-b52e-511750b1bb80"
      },
      "execution_count": null,
      "outputs": [
        {
          "output_type": "execute_result",
          "data": {
            "text/plain": [
              "('Pineapple', 'W')"
            ]
          },
          "metadata": {},
          "execution_count": 65
        }
      ]
    },
    {
      "cell_type": "markdown",
      "source": [
        "## Range [start:stop:step]   3S"
      ],
      "metadata": {
        "id": "OME9YSEYWh-a"
      }
    },
    {
      "cell_type": "code",
      "source": [
        "fruits[0:3:3]"
      ],
      "metadata": {
        "colab": {
          "base_uri": "https://localhost:8080/"
        },
        "id": "GJXXMxeAWQqu",
        "outputId": "cd47e66b-2736-4d49-a1cb-f9d5a7f58a3b"
      },
      "execution_count": null,
      "outputs": [
        {
          "output_type": "execute_result",
          "data": {
            "text/plain": [
              "['Pineapple']"
            ]
          },
          "metadata": {},
          "execution_count": 71
        }
      ]
    },
    {
      "cell_type": "code",
      "source": [
        "fruits[::-2]"
      ],
      "metadata": {
        "colab": {
          "base_uri": "https://localhost:8080/"
        },
        "id": "yZ7q1N36W3mD",
        "outputId": "0887b5ed-7fec-419d-ec65-777d95e85bf2"
      },
      "execution_count": null,
      "outputs": [
        {
          "output_type": "execute_result",
          "data": {
            "text/plain": [
              "['n', 'l', 'm', 'e', 'a', 'Watermelon', 'Pineapple']"
            ]
          },
          "metadata": {},
          "execution_count": 72
        }
      ]
    },
    {
      "cell_type": "code",
      "source": [
        "fruits[-2]"
      ],
      "metadata": {
        "colab": {
          "base_uri": "https://localhost:8080/",
          "height": 36
        },
        "id": "0CHbFHSWXVWQ",
        "outputId": "1ff6e521-ce35-4e2c-853a-2f6201e45d54"
      },
      "execution_count": null,
      "outputs": [
        {
          "output_type": "execute_result",
          "data": {
            "text/plain": [
              "'o'"
            ],
            "application/vnd.google.colaboratory.intrinsic+json": {
              "type": "string"
            }
          },
          "metadata": {},
          "execution_count": 73
        }
      ]
    },
    {
      "cell_type": "code",
      "source": [
        "fruits"
      ],
      "metadata": {
        "colab": {
          "base_uri": "https://localhost:8080/"
        },
        "id": "p6CD9ETKXZLQ",
        "outputId": "cee96743-3940-428a-afa4-dc7e7e120c25"
      },
      "execution_count": null,
      "outputs": [
        {
          "output_type": "execute_result",
          "data": {
            "text/plain": [
              "['Pineapple',\n",
              " 'Watermelon',\n",
              " 'Watermelon',\n",
              " 'W',\n",
              " 'a',\n",
              " 't',\n",
              " 'e',\n",
              " 'r',\n",
              " 'm',\n",
              " 'e',\n",
              " 'l',\n",
              " 'o',\n",
              " 'n']"
            ]
          },
          "metadata": {},
          "execution_count": 74
        }
      ]
    },
    {
      "cell_type": "code",
      "source": [
        "fruits[::2]"
      ],
      "metadata": {
        "colab": {
          "base_uri": "https://localhost:8080/"
        },
        "id": "rp0PGQUmXhb9",
        "outputId": "f551edfd-6295-4877-c6dc-e7c6f3cb2a12"
      },
      "execution_count": null,
      "outputs": [
        {
          "output_type": "execute_result",
          "data": {
            "text/plain": [
              "['Pineapple', 'Watermelon', 'a', 'e', 'm', 'l', 'n']"
            ]
          },
          "metadata": {},
          "execution_count": 75
        }
      ]
    },
    {
      "cell_type": "code",
      "source": [
        "fruits"
      ],
      "metadata": {
        "colab": {
          "base_uri": "https://localhost:8080/"
        },
        "id": "KdATVvvOXsd1",
        "outputId": "613ffb19-deaa-46b1-8ea4-cd29115ce54b"
      },
      "execution_count": null,
      "outputs": [
        {
          "output_type": "execute_result",
          "data": {
            "text/plain": [
              "['Pineapple',\n",
              " 'Watermelon',\n",
              " 'Watermelon',\n",
              " 'W',\n",
              " 'a',\n",
              " 't',\n",
              " 'e',\n",
              " 'r',\n",
              " 'm',\n",
              " 'e',\n",
              " 'l',\n",
              " 'o',\n",
              " 'n']"
            ]
          },
          "metadata": {},
          "execution_count": 76
        }
      ]
    },
    {
      "cell_type": "code",
      "source": [
        "fruits.remove(fruits[2:])"
      ],
      "metadata": {
        "colab": {
          "base_uri": "https://localhost:8080/",
          "height": 141
        },
        "id": "dHaVsHmGX-1n",
        "outputId": "83756bd9-a156-4bd5-b7a6-2f16e92e6a27"
      },
      "execution_count": null,
      "outputs": [
        {
          "output_type": "error",
          "ename": "ValueError",
          "evalue": "list.remove(x): x not in list",
          "traceback": [
            "\u001b[0;31m---------------------------------------------------------------------------\u001b[0m",
            "\u001b[0;31mValueError\u001b[0m                                Traceback (most recent call last)",
            "\u001b[0;32m<ipython-input-80-7ecbee054c22>\u001b[0m in \u001b[0;36m<cell line: 0>\u001b[0;34m()\u001b[0m\n\u001b[0;32m----> 1\u001b[0;31m \u001b[0mfruits\u001b[0m\u001b[0;34m.\u001b[0m\u001b[0mremove\u001b[0m\u001b[0;34m(\u001b[0m\u001b[0mfruits\u001b[0m\u001b[0;34m[\u001b[0m\u001b[0;36m2\u001b[0m\u001b[0;34m:\u001b[0m\u001b[0;34m]\u001b[0m\u001b[0;34m)\u001b[0m\u001b[0;34m\u001b[0m\u001b[0;34m\u001b[0m\u001b[0m\n\u001b[0m",
            "\u001b[0;31mValueError\u001b[0m: list.remove(x): x not in list"
          ]
        }
      ]
    },
    {
      "cell_type": "code",
      "source": [
        "fruits.pop(2)"
      ],
      "metadata": {
        "colab": {
          "base_uri": "https://localhost:8080/",
          "height": 36
        },
        "id": "KwUJTTL_YKoN",
        "outputId": "dd2108ee-eda8-4b73-8609-78ff82e3f18d"
      },
      "execution_count": null,
      "outputs": [
        {
          "output_type": "execute_result",
          "data": {
            "text/plain": [
              "'Watermelon'"
            ],
            "application/vnd.google.colaboratory.intrinsic+json": {
              "type": "string"
            }
          },
          "metadata": {},
          "execution_count": 82
        }
      ]
    },
    {
      "cell_type": "code",
      "source": [
        "fruits.remove(fruits[-10])"
      ],
      "metadata": {
        "id": "RacdqHHUYaCI"
      },
      "execution_count": null,
      "outputs": []
    },
    {
      "cell_type": "code",
      "source": [
        "fruits"
      ],
      "metadata": {
        "colab": {
          "base_uri": "https://localhost:8080/"
        },
        "id": "5Pt7R7a2YvCP",
        "outputId": "1058c57d-c74b-45fa-977c-a79a87eb9889"
      },
      "execution_count": null,
      "outputs": [
        {
          "output_type": "execute_result",
          "data": {
            "text/plain": [
              "['Pineapple', 'a', 't', 'e', 'r', 'm', 'e', 'l', 'o', 'n']"
            ]
          },
          "metadata": {},
          "execution_count": 87
        }
      ]
    },
    {
      "cell_type": "code",
      "source": [
        "fruits.remove(fruits[1:])"
      ],
      "metadata": {
        "colab": {
          "base_uri": "https://localhost:8080/",
          "height": 141
        },
        "id": "DnoeaWp9YwS8",
        "outputId": "2238819a-0c88-4b25-a902-9d55aaa5d733"
      },
      "execution_count": null,
      "outputs": [
        {
          "output_type": "error",
          "ename": "ValueError",
          "evalue": "list.remove(x): x not in list",
          "traceback": [
            "\u001b[0;31m---------------------------------------------------------------------------\u001b[0m",
            "\u001b[0;31mValueError\u001b[0m                                Traceback (most recent call last)",
            "\u001b[0;32m<ipython-input-88-4b267675073c>\u001b[0m in \u001b[0;36m<cell line: 0>\u001b[0;34m()\u001b[0m\n\u001b[0;32m----> 1\u001b[0;31m \u001b[0mfruits\u001b[0m\u001b[0;34m.\u001b[0m\u001b[0mremove\u001b[0m\u001b[0;34m(\u001b[0m\u001b[0mfruits\u001b[0m\u001b[0;34m[\u001b[0m\u001b[0;36m1\u001b[0m\u001b[0;34m:\u001b[0m\u001b[0;34m]\u001b[0m\u001b[0;34m)\u001b[0m\u001b[0;34m\u001b[0m\u001b[0;34m\u001b[0m\u001b[0m\n\u001b[0m",
            "\u001b[0;31mValueError\u001b[0m: list.remove(x): x not in list"
          ]
        }
      ]
    },
    {
      "cell_type": "code",
      "source": [
        "fruits"
      ],
      "metadata": {
        "colab": {
          "base_uri": "https://localhost:8080/"
        },
        "id": "lQgiETpJZKcL",
        "outputId": "fcd261dd-7c65-4119-88d2-755ea89274d4"
      },
      "execution_count": null,
      "outputs": [
        {
          "output_type": "execute_result",
          "data": {
            "text/plain": [
              "['Pineapple', 'a', 't', 'e', 'r', 'm', 'e', 'l', 'o', 'n']"
            ]
          },
          "metadata": {},
          "execution_count": 89
        }
      ]
    },
    {
      "cell_type": "code",
      "source": [
        "animals = fruits"
      ],
      "metadata": {
        "id": "iGzDtvOhZRp_"
      },
      "execution_count": null,
      "outputs": []
    },
    {
      "cell_type": "code",
      "source": [
        "animals"
      ],
      "metadata": {
        "colab": {
          "base_uri": "https://localhost:8080/"
        },
        "id": "3TFHip3kZh1p",
        "outputId": "8bbf0343-6521-4621-ba5d-ac91970614f1"
      },
      "execution_count": null,
      "outputs": [
        {
          "output_type": "execute_result",
          "data": {
            "text/plain": [
              "[]"
            ]
          },
          "metadata": {},
          "execution_count": 99
        }
      ]
    },
    {
      "cell_type": "code",
      "source": [
        "fruits.clear()"
      ],
      "metadata": {
        "id": "5zVbH5OkZjJK"
      },
      "execution_count": null,
      "outputs": []
    },
    {
      "cell_type": "code",
      "source": [
        "fruits"
      ],
      "metadata": {
        "colab": {
          "base_uri": "https://localhost:8080/"
        },
        "id": "Eanu9nxzZleC",
        "outputId": "4d6aca70-c287-4514-f8d2-4032dc9637ca"
      },
      "execution_count": null,
      "outputs": [
        {
          "output_type": "execute_result",
          "data": {
            "text/plain": [
              "[]"
            ]
          },
          "metadata": {},
          "execution_count": 93
        }
      ]
    },
    {
      "cell_type": "code",
      "source": [
        "fruits = animals"
      ],
      "metadata": {
        "id": "JUPm43e_ZmDe"
      },
      "execution_count": null,
      "outputs": []
    },
    {
      "cell_type": "code",
      "source": [
        "fruits"
      ],
      "metadata": {
        "colab": {
          "base_uri": "https://localhost:8080/"
        },
        "id": "hqmRzrc5Zppa",
        "outputId": "cc1b40bc-6150-4e09-b7d3-2b6b80c29225"
      },
      "execution_count": null,
      "outputs": [
        {
          "output_type": "execute_result",
          "data": {
            "text/plain": [
              "[]"
            ]
          },
          "metadata": {},
          "execution_count": 98
        }
      ]
    },
    {
      "cell_type": "code",
      "source": [
        "fruits = ['Pineapple', 'a', 't', 'e', 'r', 'm', 'e', 'l', 'o', 'n']"
      ],
      "metadata": {
        "id": "5ZkQZyjfZtm8"
      },
      "execution_count": null,
      "outputs": []
    },
    {
      "cell_type": "code",
      "source": [
        "fruits"
      ],
      "metadata": {
        "colab": {
          "base_uri": "https://localhost:8080/"
        },
        "id": "9-6Ks4mdaGYP",
        "outputId": "650c2577-b0e5-4038-99f9-0ebc800e7d2f"
      },
      "execution_count": null,
      "outputs": [
        {
          "output_type": "execute_result",
          "data": {
            "text/plain": [
              "['Pineapple', 'a', 't', 'e', 'r', 'm', 'e', 'l', 'o', 'n']"
            ]
          },
          "metadata": {},
          "execution_count": 101
        }
      ]
    },
    {
      "cell_type": "code",
      "source": [
        "fruits.pop()"
      ],
      "metadata": {
        "colab": {
          "base_uri": "https://localhost:8080/",
          "height": 36
        },
        "id": "hPmBA3XKaHA7",
        "outputId": "a403261a-348e-4ce4-e19c-06b7b97db62a"
      },
      "execution_count": null,
      "outputs": [
        {
          "output_type": "execute_result",
          "data": {
            "text/plain": [
              "'n'"
            ],
            "application/vnd.google.colaboratory.intrinsic+json": {
              "type": "string"
            }
          },
          "metadata": {},
          "execution_count": 105
        }
      ]
    },
    {
      "cell_type": "code",
      "source": [
        "fruits.pop(fruits[3:])"
      ],
      "metadata": {
        "colab": {
          "base_uri": "https://localhost:8080/",
          "height": 141
        },
        "id": "eHJr8xG3aMU-",
        "outputId": "c6e38235-b7e6-4e68-b588-d89fa915c21a"
      },
      "execution_count": null,
      "outputs": [
        {
          "output_type": "error",
          "ename": "TypeError",
          "evalue": "'list' object cannot be interpreted as an integer",
          "traceback": [
            "\u001b[0;31m---------------------------------------------------------------------------\u001b[0m",
            "\u001b[0;31mTypeError\u001b[0m                                 Traceback (most recent call last)",
            "\u001b[0;32m<ipython-input-106-b8e49b00f816>\u001b[0m in \u001b[0;36m<cell line: 0>\u001b[0;34m()\u001b[0m\n\u001b[0;32m----> 1\u001b[0;31m \u001b[0mfruits\u001b[0m\u001b[0;34m.\u001b[0m\u001b[0mpop\u001b[0m\u001b[0;34m(\u001b[0m\u001b[0mfruits\u001b[0m\u001b[0;34m[\u001b[0m\u001b[0;36m3\u001b[0m\u001b[0;34m:\u001b[0m\u001b[0;34m]\u001b[0m\u001b[0;34m)\u001b[0m\u001b[0;34m\u001b[0m\u001b[0;34m\u001b[0m\u001b[0m\n\u001b[0m",
            "\u001b[0;31mTypeError\u001b[0m: 'list' object cannot be interpreted as an integer"
          ]
        }
      ]
    },
    {
      "cell_type": "code",
      "source": [
        "furits"
      ],
      "metadata": {
        "colab": {
          "base_uri": "https://localhost:8080/",
          "height": 141
        },
        "id": "e7bI4H5xamYg",
        "outputId": "611bd3db-f02e-4dd8-c876-4c76d31e9d1c"
      },
      "execution_count": null,
      "outputs": [
        {
          "output_type": "error",
          "ename": "NameError",
          "evalue": "name 'furits' is not defined",
          "traceback": [
            "\u001b[0;31m---------------------------------------------------------------------------\u001b[0m",
            "\u001b[0;31mNameError\u001b[0m                                 Traceback (most recent call last)",
            "\u001b[0;32m<ipython-input-107-32292ac1ee44>\u001b[0m in \u001b[0;36m<cell line: 0>\u001b[0;34m()\u001b[0m\n\u001b[0;32m----> 1\u001b[0;31m \u001b[0mfurits\u001b[0m\u001b[0;34m\u001b[0m\u001b[0;34m\u001b[0m\u001b[0m\n\u001b[0m",
            "\u001b[0;31mNameError\u001b[0m: name 'furits' is not defined"
          ]
        }
      ]
    },
    {
      "cell_type": "code",
      "source": [
        "fruits"
      ],
      "metadata": {
        "colab": {
          "base_uri": "https://localhost:8080/"
        },
        "id": "LuC6oHNyark2",
        "outputId": "65a4da79-c9cd-49b2-81a8-0333435270e2"
      },
      "execution_count": null,
      "outputs": [
        {
          "output_type": "execute_result",
          "data": {
            "text/plain": [
              "['Pineapple', 'a', 't', 'e', 'r', 'm', 'e', 'l', 'o']"
            ]
          },
          "metadata": {},
          "execution_count": 108
        }
      ]
    },
    {
      "cell_type": "code",
      "source": [
        "new = fruits.copy()"
      ],
      "metadata": {
        "id": "oho6xcbuatOq"
      },
      "execution_count": null,
      "outputs": []
    },
    {
      "cell_type": "code",
      "source": [
        "new"
      ],
      "metadata": {
        "colab": {
          "base_uri": "https://localhost:8080/"
        },
        "id": "AuR8gT4VbALs",
        "outputId": "04260262-8c42-46bd-c63f-75c2b40543a4"
      },
      "execution_count": null,
      "outputs": [
        {
          "output_type": "execute_result",
          "data": {
            "text/plain": [
              "['Pineapple', 'a', 't', 'e', 'r', 'm', 'e', 'l', 'o']"
            ]
          },
          "metadata": {},
          "execution_count": 110
        }
      ]
    },
    {
      "cell_type": "code",
      "source": [
        "fruits.clear()"
      ],
      "metadata": {
        "id": "XFpunecgbA7I"
      },
      "execution_count": null,
      "outputs": []
    },
    {
      "cell_type": "code",
      "source": [
        "fruits"
      ],
      "metadata": {
        "colab": {
          "base_uri": "https://localhost:8080/"
        },
        "id": "l00OjzbIbErt",
        "outputId": "6d8a6385-7e52-417b-c15f-94b0203696be"
      },
      "execution_count": null,
      "outputs": [
        {
          "output_type": "execute_result",
          "data": {
            "text/plain": [
              "[]"
            ]
          },
          "metadata": {},
          "execution_count": 112
        }
      ]
    },
    {
      "cell_type": "code",
      "source": [
        "new"
      ],
      "metadata": {
        "colab": {
          "base_uri": "https://localhost:8080/"
        },
        "id": "tlSRKnMebGId",
        "outputId": "a2f34d2b-29a8-4c83-d63c-a27135521c77"
      },
      "execution_count": null,
      "outputs": [
        {
          "output_type": "execute_result",
          "data": {
            "text/plain": [
              "['Pineapple', 'a', 't', 'e', 'r', 'm', 'e', 'l', 'o']"
            ]
          },
          "metadata": {},
          "execution_count": 113
        }
      ]
    },
    {
      "cell_type": "code",
      "source": [
        "fruits=['Pineapple', 'a', 't', 'e', 'r', 'm', 'e', 'l', 'o']\n",
        "\n"
      ],
      "metadata": {
        "id": "pu3mdHoxbGqo"
      },
      "execution_count": null,
      "outputs": []
    },
    {
      "cell_type": "code",
      "source": [
        "len(fruits)"
      ],
      "metadata": {
        "colab": {
          "base_uri": "https://localhost:8080/"
        },
        "id": "b-uPyXP_bOZD",
        "outputId": "2193ae9a-895e-4746-f578-e26a8e89d0b1"
      },
      "execution_count": null,
      "outputs": [
        {
          "output_type": "execute_result",
          "data": {
            "text/plain": [
              "9"
            ]
          },
          "metadata": {},
          "execution_count": 115
        }
      ]
    },
    {
      "cell_type": "code",
      "source": [
        "new"
      ],
      "metadata": {
        "colab": {
          "base_uri": "https://localhost:8080/"
        },
        "id": "fpCuzE9Ibcf3",
        "outputId": "a4e8ffd3-310c-4139-8326-a03559cf21cb"
      },
      "execution_count": null,
      "outputs": [
        {
          "output_type": "execute_result",
          "data": {
            "text/plain": [
              "['Pineapple', 'a', 't', 'e', 'r', 'm', 'e', 'l', 'o']"
            ]
          },
          "metadata": {},
          "execution_count": 116
        }
      ]
    },
    {
      "cell_type": "code",
      "source": [
        "fruits"
      ],
      "metadata": {
        "colab": {
          "base_uri": "https://localhost:8080/"
        },
        "id": "1wE1B04sbnYQ",
        "outputId": "0b6d68fe-5069-4b55-cab8-a8b1a725dedb"
      },
      "execution_count": null,
      "outputs": [
        {
          "output_type": "execute_result",
          "data": {
            "text/plain": [
              "['Pineapple', 'a', 't', 'e', 'r', 'm', 'e', 'l', 'o']"
            ]
          },
          "metadata": {},
          "execution_count": 117
        }
      ]
    },
    {
      "cell_type": "code",
      "source": [
        "abc=new.extend(fruits)"
      ],
      "metadata": {
        "id": "SFXpj8_ZboWL"
      },
      "execution_count": null,
      "outputs": []
    },
    {
      "cell_type": "code",
      "source": [
        "abc"
      ],
      "metadata": {
        "id": "Ep9mcbOLbxsz"
      },
      "execution_count": null,
      "outputs": []
    },
    {
      "cell_type": "code",
      "source": [
        "new"
      ],
      "metadata": {
        "colab": {
          "base_uri": "https://localhost:8080/"
        },
        "id": "4aacyLtqb1yF",
        "outputId": "9418465a-d9ea-49fb-e9a2-f0e9c09dd6a2"
      },
      "execution_count": null,
      "outputs": [
        {
          "output_type": "execute_result",
          "data": {
            "text/plain": [
              "['Pineapple',\n",
              " 'a',\n",
              " 't',\n",
              " 'e',\n",
              " 'r',\n",
              " 'm',\n",
              " 'e',\n",
              " 'l',\n",
              " 'o',\n",
              " 'Pineapple',\n",
              " 'a',\n",
              " 't',\n",
              " 'e',\n",
              " 'r',\n",
              " 'm',\n",
              " 'e',\n",
              " 'l',\n",
              " 'o']"
            ]
          },
          "metadata": {},
          "execution_count": 121
        }
      ]
    },
    {
      "cell_type": "code",
      "source": [
        "fruits"
      ],
      "metadata": {
        "colab": {
          "base_uri": "https://localhost:8080/"
        },
        "id": "UQdCHx4Fb3_9",
        "outputId": "59f7393c-b8b0-432f-ae25-ab0848966fee"
      },
      "execution_count": null,
      "outputs": [
        {
          "output_type": "execute_result",
          "data": {
            "text/plain": [
              "['Pineapple', 'a', 't', 'e', 'r', 'm', 'e', 'l', 'o']"
            ]
          },
          "metadata": {},
          "execution_count": 122
        }
      ]
    },
    {
      "cell_type": "code",
      "source": [
        "len(new)"
      ],
      "metadata": {
        "colab": {
          "base_uri": "https://localhost:8080/"
        },
        "id": "4dS2bFqHb8sp",
        "outputId": "aa77cc39-267d-4981-f894-638d26ea0ca7"
      },
      "execution_count": null,
      "outputs": [
        {
          "output_type": "execute_result",
          "data": {
            "text/plain": [
              "18"
            ]
          },
          "metadata": {},
          "execution_count": 125
        }
      ]
    },
    {
      "cell_type": "code",
      "source": [
        "new[:-1]"
      ],
      "metadata": {
        "colab": {
          "base_uri": "https://localhost:8080/"
        },
        "id": "lW8c19BkcISD",
        "outputId": "6273457b-9754-4719-b806-220c1d713419"
      },
      "execution_count": null,
      "outputs": [
        {
          "output_type": "execute_result",
          "data": {
            "text/plain": [
              "['Pineapple',\n",
              " 'a',\n",
              " 't',\n",
              " 'e',\n",
              " 'r',\n",
              " 'm',\n",
              " 'e',\n",
              " 'l',\n",
              " 'o',\n",
              " 'Pineapple',\n",
              " 'a',\n",
              " 't',\n",
              " 'e',\n",
              " 'r',\n",
              " 'm',\n",
              " 'e',\n",
              " 'l']"
            ]
          },
          "metadata": {},
          "execution_count": 130
        }
      ]
    },
    {
      "cell_type": "code",
      "source": [
        "new"
      ],
      "metadata": {
        "colab": {
          "base_uri": "https://localhost:8080/"
        },
        "id": "A6_QZjlEcQ8S",
        "outputId": "7f9870aa-ba41-473d-c5ad-541a2f76f689"
      },
      "execution_count": null,
      "outputs": [
        {
          "output_type": "execute_result",
          "data": {
            "text/plain": [
              "['Pineapple',\n",
              " 'a',\n",
              " 't',\n",
              " 'e',\n",
              " 'r',\n",
              " 'm',\n",
              " 'e',\n",
              " 'l',\n",
              " 'o',\n",
              " 'Pineapple',\n",
              " 'a',\n",
              " 't',\n",
              " 'e',\n",
              " 'r',\n",
              " 'm',\n",
              " 'e',\n",
              " 'l',\n",
              " 'o']"
            ]
          },
          "metadata": {},
          "execution_count": 127
        }
      ]
    },
    {
      "cell_type": "code",
      "source": [
        "new.reverse()"
      ],
      "metadata": {
        "id": "LRRW8CMGcSTP"
      },
      "execution_count": null,
      "outputs": []
    },
    {
      "cell_type": "code",
      "source": [
        "new"
      ],
      "metadata": {
        "colab": {
          "base_uri": "https://localhost:8080/"
        },
        "id": "4ZMHuYg4cgMu",
        "outputId": "a1deddde-2a6d-4955-93d8-9c8abbe8781e"
      },
      "execution_count": null,
      "outputs": [
        {
          "output_type": "execute_result",
          "data": {
            "text/plain": [
              "['o',\n",
              " 'l',\n",
              " 'e',\n",
              " 'm',\n",
              " 'r',\n",
              " 'e',\n",
              " 't',\n",
              " 'a',\n",
              " 'Pineapple',\n",
              " 'o',\n",
              " 'l',\n",
              " 'e',\n",
              " 'm',\n",
              " 'r',\n",
              " 'e',\n",
              " 't',\n",
              " 'a',\n",
              " 'Pineapple']"
            ]
          },
          "metadata": {},
          "execution_count": 132
        }
      ]
    },
    {
      "cell_type": "code",
      "source": [
        "fruits"
      ],
      "metadata": {
        "colab": {
          "base_uri": "https://localhost:8080/"
        },
        "id": "7xik-glfcgz0",
        "outputId": "f9e10e50-1ec8-42c9-d394-d03533bf0a33"
      },
      "execution_count": null,
      "outputs": [
        {
          "output_type": "execute_result",
          "data": {
            "text/plain": [
              "['Pineapple', 'a', 't', 'e', 'r', 'm', 'e', 'l', 'o']"
            ]
          },
          "metadata": {},
          "execution_count": 133
        }
      ]
    },
    {
      "cell_type": "code",
      "source": [
        "new[::]"
      ],
      "metadata": {
        "colab": {
          "base_uri": "https://localhost:8080/"
        },
        "id": "7D_KOzI-cjfM",
        "outputId": "88b74eef-132a-40f3-84e4-c98518f96e0c"
      },
      "execution_count": null,
      "outputs": [
        {
          "output_type": "execute_result",
          "data": {
            "text/plain": [
              "['o',\n",
              " 'l',\n",
              " 'e',\n",
              " 'm',\n",
              " 'r',\n",
              " 'e',\n",
              " 't',\n",
              " 'a',\n",
              " 'Pineapple',\n",
              " 'o',\n",
              " 'l',\n",
              " 'e',\n",
              " 'm',\n",
              " 'r',\n",
              " 'e',\n",
              " 't',\n",
              " 'a',\n",
              " 'Pineapple']"
            ]
          },
          "metadata": {},
          "execution_count": 134
        }
      ]
    },
    {
      "cell_type": "code",
      "source": [
        "new[::-1]"
      ],
      "metadata": {
        "colab": {
          "base_uri": "https://localhost:8080/"
        },
        "id": "WC7k2A0Icm6f",
        "outputId": "41a2f9d8-4e2c-46eb-bb2f-2bb72a9d2a4a"
      },
      "execution_count": null,
      "outputs": [
        {
          "output_type": "execute_result",
          "data": {
            "text/plain": [
              "['Pineapple',\n",
              " 'a',\n",
              " 't',\n",
              " 'e',\n",
              " 'r',\n",
              " 'm',\n",
              " 'e',\n",
              " 'l',\n",
              " 'o',\n",
              " 'Pineapple',\n",
              " 'a',\n",
              " 't',\n",
              " 'e',\n",
              " 'r',\n",
              " 'm',\n",
              " 'e',\n",
              " 'l',\n",
              " 'o']"
            ]
          },
          "metadata": {},
          "execution_count": 135
        }
      ]
    },
    {
      "cell_type": "code",
      "source": [
        "new"
      ],
      "metadata": {
        "colab": {
          "base_uri": "https://localhost:8080/"
        },
        "id": "TIMrKw7jcpaG",
        "outputId": "7138afae-1498-457a-867a-110eeee40d11"
      },
      "execution_count": null,
      "outputs": [
        {
          "output_type": "execute_result",
          "data": {
            "text/plain": [
              "['o',\n",
              " 'l',\n",
              " 'e',\n",
              " 'm',\n",
              " 'r',\n",
              " 'e',\n",
              " 't',\n",
              " 'a',\n",
              " 'Pineapple',\n",
              " 'o',\n",
              " 'l',\n",
              " 'e',\n",
              " 'm',\n",
              " 'r',\n",
              " 'e',\n",
              " 't',\n",
              " 'a',\n",
              " 'Pineapple']"
            ]
          },
          "metadata": {},
          "execution_count": 136
        }
      ]
    },
    {
      "cell_type": "code",
      "source": [
        "fruits[::-1]"
      ],
      "metadata": {
        "colab": {
          "base_uri": "https://localhost:8080/"
        },
        "id": "dJzBQ_IIcz2-",
        "outputId": "e0c965ea-daca-4adc-d5c9-c8d9417bbc88"
      },
      "execution_count": null,
      "outputs": [
        {
          "output_type": "execute_result",
          "data": {
            "text/plain": [
              "['o', 'l', 'e', 'm', 'r', 'e', 't', 'a', 'Pineapple']"
            ]
          },
          "metadata": {},
          "execution_count": 137
        }
      ]
    },
    {
      "cell_type": "code",
      "source": [
        "new"
      ],
      "metadata": {
        "colab": {
          "base_uri": "https://localhost:8080/"
        },
        "id": "3AOQuMtGc4yg",
        "outputId": "e6cd81e0-6024-45f3-b5c9-5396869974fe"
      },
      "execution_count": null,
      "outputs": [
        {
          "output_type": "execute_result",
          "data": {
            "text/plain": [
              "['o',\n",
              " 'l',\n",
              " 'e',\n",
              " 'm',\n",
              " 'r',\n",
              " 'e',\n",
              " 't',\n",
              " 'a',\n",
              " 'Pineapple',\n",
              " 'o',\n",
              " 'l',\n",
              " 'e',\n",
              " 'm',\n",
              " 'r',\n",
              " 'e',\n",
              " 't',\n",
              " 'a',\n",
              " 'Pineapple']"
            ]
          },
          "metadata": {},
          "execution_count": 138
        }
      ]
    },
    {
      "cell_type": "code",
      "source": [
        "# prompt: unique values from the list\n",
        "\n",
        "unique_fruits = []\n",
        "for fruit in fruits:\n",
        "  if fruit not in unique_fruits:\n",
        "    unique_fruits.append(fruit)\n",
        "unique_fruits\n"
      ],
      "metadata": {
        "colab": {
          "base_uri": "https://localhost:8080/"
        },
        "id": "CdlXW9GRc7zJ",
        "outputId": "df972e2b-b0cc-4650-9fa0-35cf8464a295"
      },
      "execution_count": null,
      "outputs": [
        {
          "output_type": "execute_result",
          "data": {
            "text/plain": [
              "['Pineapple', 'a', 't', 'e', 'r', 'm', 'l', 'o']"
            ]
          },
          "metadata": {},
          "execution_count": 140
        }
      ]
    },
    {
      "cell_type": "code",
      "source": [
        "ufruits = set(fruits)"
      ],
      "metadata": {
        "id": "EqVwgRXOdUs3"
      },
      "execution_count": null,
      "outputs": []
    },
    {
      "cell_type": "code",
      "source": [
        "ufruits"
      ],
      "metadata": {
        "colab": {
          "base_uri": "https://localhost:8080/"
        },
        "id": "hr1emDdud3cA",
        "outputId": "32565775-2749-4798-8a49-273e179ff0e6"
      },
      "execution_count": null,
      "outputs": [
        {
          "output_type": "execute_result",
          "data": {
            "text/plain": [
              "{'Pineapple', 'a', 'e', 'l', 'm', 'o', 'r', 't'}"
            ]
          },
          "metadata": {},
          "execution_count": 142
        }
      ]
    },
    {
      "cell_type": "code",
      "source": [
        "fruits"
      ],
      "metadata": {
        "colab": {
          "base_uri": "https://localhost:8080/"
        },
        "id": "KSqKhDs6d4nd",
        "outputId": "8f4de900-4f16-4415-d1a0-6d23f0bfe8b0"
      },
      "execution_count": null,
      "outputs": [
        {
          "output_type": "execute_result",
          "data": {
            "text/plain": [
              "['Pineapple', 'a', 't', 'e', 'r', 'm', 'e', 'l', 'o']"
            ]
          },
          "metadata": {},
          "execution_count": 143
        }
      ]
    },
    {
      "cell_type": "markdown",
      "source": [
        "## SET {}"
      ],
      "metadata": {
        "id": "dqiL27r4fEDL"
      }
    },
    {
      "cell_type": "code",
      "source": [
        "unew = set(new)"
      ],
      "metadata": {
        "id": "skbja7TVd8cb"
      },
      "execution_count": null,
      "outputs": []
    },
    {
      "cell_type": "code",
      "source": [
        "unew"
      ],
      "metadata": {
        "colab": {
          "base_uri": "https://localhost:8080/"
        },
        "id": "2r9ZLZFdeBw5",
        "outputId": "f1f21045-5a69-499c-ca32-0f04d8cec394"
      },
      "execution_count": null,
      "outputs": [
        {
          "output_type": "execute_result",
          "data": {
            "text/plain": [
              "{'Pineapple', 'a', 'e', 'l', 'm', 'o', 'r', 't'}"
            ]
          },
          "metadata": {},
          "execution_count": 148
        }
      ]
    },
    {
      "cell_type": "code",
      "source": [
        "new"
      ],
      "metadata": {
        "colab": {
          "base_uri": "https://localhost:8080/"
        },
        "id": "cmgg2O9NeCe7",
        "outputId": "c51a4d98-1c3d-44b7-ffb6-54d583dd429c"
      },
      "execution_count": null,
      "outputs": [
        {
          "output_type": "execute_result",
          "data": {
            "text/plain": [
              "['o',\n",
              " 'l',\n",
              " 'e',\n",
              " 'm',\n",
              " 'r',\n",
              " 'e',\n",
              " 't',\n",
              " 'a',\n",
              " 'Pineapple',\n",
              " 'o',\n",
              " 'l',\n",
              " 'e',\n",
              " 'm',\n",
              " 'r',\n",
              " 'e',\n",
              " 't',\n",
              " 'a',\n",
              " 'Pineapple']"
            ]
          },
          "metadata": {},
          "execution_count": 149
        }
      ]
    },
    {
      "cell_type": "code",
      "source": [
        "# dict: {'key':'value'}"
      ],
      "metadata": {
        "id": "Eo2MjCgNeDbq"
      },
      "execution_count": null,
      "outputs": []
    },
    {
      "cell_type": "code",
      "source": [
        "unew.add(\"Watermelon\")"
      ],
      "metadata": {
        "id": "Ulvfkwp2fcxM"
      },
      "execution_count": null,
      "outputs": []
    },
    {
      "cell_type": "code",
      "source": [
        "unew"
      ],
      "metadata": {
        "colab": {
          "base_uri": "https://localhost:8080/"
        },
        "id": "HtEBRvqXfgWt",
        "outputId": "54140882-c453-48f9-b396-69728f4e9c83"
      },
      "execution_count": null,
      "outputs": [
        {
          "output_type": "execute_result",
          "data": {
            "text/plain": [
              "{'Pineapple', 'Watermelon', 'a', 'e', 'l', 'm', 'o', 'r', 't'}"
            ]
          },
          "metadata": {},
          "execution_count": 152
        }
      ]
    },
    {
      "cell_type": "code",
      "source": [
        "unew.add(\"ball\")"
      ],
      "metadata": {
        "id": "IrWjbd5SfhzB"
      },
      "execution_count": null,
      "outputs": []
    },
    {
      "cell_type": "code",
      "source": [
        "unew"
      ],
      "metadata": {
        "colab": {
          "base_uri": "https://localhost:8080/"
        },
        "id": "tMXlNdtMfq4Y",
        "outputId": "a24f6406-0cb6-414a-d7d6-06ae72b5cc15"
      },
      "execution_count": null,
      "outputs": [
        {
          "output_type": "execute_result",
          "data": {
            "text/plain": [
              "{'Pineapple', 'Watermelon', 'a', 'ball', 'e', 'l', 'm', 'o', 'r', 't'}"
            ]
          },
          "metadata": {},
          "execution_count": 154
        }
      ]
    },
    {
      "cell_type": "code",
      "source": [
        "unew.add(\"mind\")"
      ],
      "metadata": {
        "id": "LHZwju1DfrrL"
      },
      "execution_count": null,
      "outputs": []
    },
    {
      "cell_type": "code",
      "source": [
        "unew"
      ],
      "metadata": {
        "colab": {
          "base_uri": "https://localhost:8080/"
        },
        "id": "F4v28m2-fybl",
        "outputId": "57bb5bcc-fe48-4608-ec76-856ae9aceb8d"
      },
      "execution_count": null,
      "outputs": [
        {
          "output_type": "execute_result",
          "data": {
            "text/plain": [
              "{'Pineapple', 'Watermelon', 'a', 'ball', 'e', 'l', 'm', 'mind', 'o', 'r', 't'}"
            ]
          },
          "metadata": {},
          "execution_count": 156
        }
      ]
    },
    {
      "cell_type": "code",
      "source": [
        "unew.add(\"game\")"
      ],
      "metadata": {
        "id": "K2N6ZhfQfzWT"
      },
      "execution_count": null,
      "outputs": []
    },
    {
      "cell_type": "code",
      "source": [
        "unew"
      ],
      "metadata": {
        "colab": {
          "base_uri": "https://localhost:8080/"
        },
        "id": "oYL_s_Qhf6b5",
        "outputId": "4e6ccef9-17dc-40ff-ede7-9190de12f212"
      },
      "execution_count": null,
      "outputs": [
        {
          "output_type": "execute_result",
          "data": {
            "text/plain": [
              "{'Pineapple',\n",
              " 'Watermelon',\n",
              " 'a',\n",
              " 'ball',\n",
              " 'e',\n",
              " 'game',\n",
              " 'l',\n",
              " 'm',\n",
              " 'mind',\n",
              " 'o',\n",
              " 'r',\n",
              " 't'}"
            ]
          },
          "metadata": {},
          "execution_count": 158
        }
      ]
    },
    {
      "cell_type": "code",
      "source": [
        "unew.add(\"map\")"
      ],
      "metadata": {
        "id": "DPS2kd1Qf62T"
      },
      "execution_count": null,
      "outputs": []
    },
    {
      "cell_type": "code",
      "source": [
        "unew"
      ],
      "metadata": {
        "colab": {
          "base_uri": "https://localhost:8080/"
        },
        "id": "AEXIMCS-gEk-",
        "outputId": "d001aecb-162a-45e2-e5e2-56d8c23ea50c"
      },
      "execution_count": null,
      "outputs": [
        {
          "output_type": "execute_result",
          "data": {
            "text/plain": [
              "{'Pineapple',\n",
              " 'Watermelon',\n",
              " 'a',\n",
              " 'ball',\n",
              " 'e',\n",
              " 'game',\n",
              " 'l',\n",
              " 'm',\n",
              " 'map',\n",
              " 'mind',\n",
              " 'o',\n",
              " 'r',\n",
              " 't'}"
            ]
          },
          "metadata": {},
          "execution_count": 160
        }
      ]
    },
    {
      "cell_type": "code",
      "source": [
        "unew.add(\"tall\")"
      ],
      "metadata": {
        "id": "MxJKvNjcgFJu"
      },
      "execution_count": null,
      "outputs": []
    },
    {
      "cell_type": "code",
      "source": [
        "unew"
      ],
      "metadata": {
        "colab": {
          "base_uri": "https://localhost:8080/"
        },
        "id": "MSqlWX87gH4d",
        "outputId": "1847ba3a-28c7-45f7-e857-76779a0fe6bd"
      },
      "execution_count": null,
      "outputs": [
        {
          "output_type": "execute_result",
          "data": {
            "text/plain": [
              "{'Pineapple',\n",
              " 'Watermelon',\n",
              " 'a',\n",
              " 'ball',\n",
              " 'e',\n",
              " 'game',\n",
              " 'l',\n",
              " 'm',\n",
              " 'map',\n",
              " 'mind',\n",
              " 'o',\n",
              " 'r',\n",
              " 't',\n",
              " 'tall'}"
            ]
          },
          "metadata": {},
          "execution_count": 163
        }
      ]
    },
    {
      "cell_type": "code",
      "source": [
        "newunew = unew.copy()"
      ],
      "metadata": {
        "id": "AP0kCkmpgLUH"
      },
      "execution_count": null,
      "outputs": []
    },
    {
      "cell_type": "code",
      "source": [
        "newunew"
      ],
      "metadata": {
        "colab": {
          "base_uri": "https://localhost:8080/"
        },
        "id": "-518NFvZglLI",
        "outputId": "71414fa9-41b5-46ca-c1dd-c0c65f7cb43a"
      },
      "execution_count": null,
      "outputs": [
        {
          "output_type": "execute_result",
          "data": {
            "text/plain": [
              "{'Pineapple',\n",
              " 'Watermelon',\n",
              " 'a',\n",
              " 'ball',\n",
              " 'e',\n",
              " 'game',\n",
              " 'l',\n",
              " 'm',\n",
              " 'map',\n",
              " 'mind',\n",
              " 'o',\n",
              " 'r',\n",
              " 't',\n",
              " 'tall'}"
            ]
          },
          "metadata": {},
          "execution_count": 165
        }
      ]
    },
    {
      "cell_type": "code",
      "source": [
        "newunews = list(newunew)"
      ],
      "metadata": {
        "id": "QDNnSy8CgnIi"
      },
      "execution_count": null,
      "outputs": []
    },
    {
      "cell_type": "code",
      "source": [
        "newunews"
      ],
      "metadata": {
        "colab": {
          "base_uri": "https://localhost:8080/"
        },
        "id": "FeecE74igupv",
        "outputId": "d2499a71-74c7-4b76-aa65-1f108cac1e9d"
      },
      "execution_count": null,
      "outputs": [
        {
          "output_type": "execute_result",
          "data": {
            "text/plain": [
              "['game',\n",
              " 't',\n",
              " 'ball',\n",
              " 'mind',\n",
              " 'o',\n",
              " 'tall',\n",
              " 'r',\n",
              " 'e',\n",
              " 'Pineapple',\n",
              " 'l',\n",
              " 'm',\n",
              " 'Watermelon',\n",
              " 'map',\n",
              " 'a']"
            ]
          },
          "metadata": {},
          "execution_count": 167
        }
      ]
    },
    {
      "cell_type": "code",
      "source": [
        "newunews.append(\"ball\")"
      ],
      "metadata": {
        "id": "VzjnmlK5gv64"
      },
      "execution_count": null,
      "outputs": []
    },
    {
      "cell_type": "code",
      "source": [
        "newunews"
      ],
      "metadata": {
        "colab": {
          "base_uri": "https://localhost:8080/"
        },
        "id": "c3fN8EUng5SY",
        "outputId": "bc344fd1-ece4-4870-c613-84268bd02845"
      },
      "execution_count": null,
      "outputs": [
        {
          "output_type": "execute_result",
          "data": {
            "text/plain": [
              "['game',\n",
              " 't',\n",
              " 'ball',\n",
              " 'mind',\n",
              " 'o',\n",
              " 'tall',\n",
              " 'r',\n",
              " 'e',\n",
              " 'Pineapple',\n",
              " 'l',\n",
              " 'm',\n",
              " 'Watermelon',\n",
              " 'map',\n",
              " 'a',\n",
              " 'ball']"
            ]
          },
          "metadata": {},
          "execution_count": 169
        }
      ]
    },
    {
      "cell_type": "code",
      "source": [
        "balls = {newunews}"
      ],
      "metadata": {
        "colab": {
          "base_uri": "https://localhost:8080/",
          "height": 141
        },
        "id": "o5drWLKhg6sS",
        "outputId": "c952d799-9cd3-435c-ca36-8d442e5d08e6"
      },
      "execution_count": null,
      "outputs": [
        {
          "output_type": "error",
          "ename": "TypeError",
          "evalue": "unhashable type: 'list'",
          "traceback": [
            "\u001b[0;31m---------------------------------------------------------------------------\u001b[0m",
            "\u001b[0;31mTypeError\u001b[0m                                 Traceback (most recent call last)",
            "\u001b[0;32m<ipython-input-170-717d91862d21>\u001b[0m in \u001b[0;36m<cell line: 0>\u001b[0;34m()\u001b[0m\n\u001b[0;32m----> 1\u001b[0;31m \u001b[0mballs\u001b[0m \u001b[0;34m=\u001b[0m \u001b[0;34m{\u001b[0m\u001b[0mnewunews\u001b[0m\u001b[0;34m}\u001b[0m\u001b[0;34m\u001b[0m\u001b[0;34m\u001b[0m\u001b[0m\n\u001b[0m",
            "\u001b[0;31mTypeError\u001b[0m: unhashable type: 'list'"
          ]
        }
      ]
    },
    {
      "cell_type": "code",
      "source": [
        "fruits"
      ],
      "metadata": {
        "colab": {
          "base_uri": "https://localhost:8080/"
        },
        "id": "4NNokuNzhAZP",
        "outputId": "ded670bb-073f-4065-e37f-6c353ab1b6d2"
      },
      "execution_count": null,
      "outputs": [
        {
          "output_type": "execute_result",
          "data": {
            "text/plain": [
              "['Pineapple', 'a', 't', 'e', 'r', 'm', 'e', 'l', 'o']"
            ]
          },
          "metadata": {},
          "execution_count": 171
        }
      ]
    },
    {
      "cell_type": "code",
      "source": [
        "del fruits"
      ],
      "metadata": {
        "id": "ITmcaI8AhV1S"
      },
      "execution_count": null,
      "outputs": []
    },
    {
      "cell_type": "code",
      "source": [
        "newunews"
      ],
      "metadata": {
        "id": "8btoJoIXjSO4",
        "outputId": "dbc77583-8424-4aa8-f364-e68327d8e82f",
        "colab": {
          "base_uri": "https://localhost:8080/"
        }
      },
      "execution_count": null,
      "outputs": [
        {
          "output_type": "execute_result",
          "data": {
            "text/plain": [
              "['game',\n",
              " 't',\n",
              " 'ball',\n",
              " 'mind',\n",
              " 'o',\n",
              " 'tall',\n",
              " 'r',\n",
              " 'e',\n",
              " 'Pineapple',\n",
              " 'l',\n",
              " 'm',\n",
              " 'Watermelon',\n",
              " 'map',\n",
              " 'a',\n",
              " 'ball']"
            ]
          },
          "metadata": {},
          "execution_count": 175
        }
      ]
    },
    {
      "cell_type": "code",
      "source": [],
      "metadata": {
        "id": "EI9oXd0vjS9u"
      },
      "execution_count": null,
      "outputs": []
    }
  ]
}